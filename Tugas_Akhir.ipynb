{
  "nbformat": 4,
  "nbformat_minor": 0,
  "metadata": {
    "colab": {
      "name": "Tugas_Akhir.ipynb",
      "provenance": [],
      "collapsed_sections": [
        "zgo9R7yqGm1R",
        "DquWVuY_GSRN",
        "JCygZgYh6y6v"
      ]
    },
    "kernelspec": {
      "display_name": "Python 3",
      "language": "python",
      "name": "python3"
    },
    "language_info": {
      "codemirror_mode": {
        "name": "ipython",
        "version": 3
      },
      "file_extension": ".py",
      "mimetype": "text/x-python",
      "name": "python",
      "nbconvert_exporter": "python",
      "pygments_lexer": "ipython3",
      "version": "3.8.5"
    }
  },
  "cells": [
    {
      "cell_type": "code",
      "metadata": {
        "id": "z86BNq-vGSRC"
      },
      "source": [
        "import pandas as pd\n",
        "import numpy as np\n",
        "from sklearn.model_selection import train_test_split\n",
        "from sklearn.metrics import classification_report\n",
        "from sklearn import metrics\n",
        "from sklearn.naive_bayes import GaussianNB\n",
        "from sklearn.neighbors import KNeighborsClassifier\n",
        "from sklearn.metrics import accuracy_score\n",
        "from sklearn.metrics import precision_score"
      ],
      "execution_count": 70,
      "outputs": []
    },
    {
      "cell_type": "code",
      "metadata": {
        "id": "KYZwWeW0GSRI"
      },
      "source": [
        "data = pd.read_excel('datafix.xlsx')\n",
        "# dbd = pd.DataFrame(data, columns= ['Jumlah Kasus','Curah hujan','Kelembapan','Temperatur','Label Kelas'])\n",
        "dbd = pd.DataFrame(data)\n",
        "dbd = dbd.drop([\"No\",\"jmlkasus\",\"Kelas\"], axis = 1)\n",
        "dbd['noijazah'] = dbd['noijazah'].astype(np.int64)\n",
        "dbd['tamatsd'] = dbd['tamatsd'].astype(np.int64)\n",
        "dbd['tamatsmp'] = dbd['tamatsmp'].astype(np.int64)\n",
        "dbd['tamatsmak'] = dbd['tamatsmak'].astype(np.int64)\n",
        "dbd['tamatpt'] = dbd['tamatpt'].astype(np.int64)\n",
        "# dbd.info()\n",
        "# dbd.head()\n",
        "# dbd.corr()"
      ],
      "execution_count": 71,
      "outputs": []
    },
    {
      "cell_type": "markdown",
      "metadata": {
        "id": "zgo9R7yqGm1R"
      },
      "source": [
        "#Split Data u/ Kombinasi"
      ]
    },
    {
      "cell_type": "code",
      "metadata": {
        "id": "lisEQ3IWGSRJ"
      },
      "source": [
        "d2012 = dbd.iloc[0:30]\n",
        "d2013 = dbd.iloc[30:60] \n",
        "d2014 = dbd.iloc[60:90] \n",
        "d2015 = dbd.iloc[90:120] \n",
        "d2016 = dbd.iloc[120:150] \n",
        "d2017 = dbd.iloc[150:180] \n",
        "d2018 = dbd.iloc[180:210] "
      ],
      "execution_count": 72,
      "outputs": []
    },
    {
      "cell_type": "code",
      "metadata": {
        "id": "hSUPFkqkGSRK"
      },
      "source": [
        "combdt = dbd.drop([\"kecamatan\",\"kelas\"], axis=1)\n",
        "\n",
        "fitur4 = []\n",
        "fitur5 = []\n",
        "fitur6 = []\n",
        "fitur7 = []\n",
        "fitur8 = []\n",
        "import itertools\n",
        "for combination in itertools.combinations(combdt, 4):\n",
        "    fitur4.append(combination)\n",
        "for combination in itertools.combinations(combdt, 5):\n",
        "    fitur5.append(combination)\n",
        "for combination in itertools.combinations(combdt, 6):\n",
        "    fitur6.append(combination)\n",
        "for combination in itertools.combinations(combdt, 7):\n",
        "    fitur7.append(combination)    \n",
        "for combination in itertools.combinations(combdt, 8):\n",
        "    fitur8.append(combination)\n",
        "#     print(combination)"
      ],
      "execution_count": 73,
      "outputs": []
    },
    {
      "cell_type": "code",
      "metadata": {
        "id": "sZCjWKZXGSRL",
        "scrolled": true
      },
      "source": [
        "array_comb4 = np.asarray(fitur4)\n",
        "array_comb5 = np.asarray(fitur5)\n",
        "array_comb6 = np.asarray(fitur6)\n",
        "array_comb7 = np.asarray(fitur7)\n",
        "array_comb8 = np.asarray(fitur8)"
      ],
      "execution_count": 74,
      "outputs": []
    },
    {
      "cell_type": "markdown",
      "metadata": {
        "id": "foZBOwMmGSRX"
      },
      "source": [
        "# Eksplorasi Melihat Akurasi Dengan Kombinasi Fitur"
      ]
    },
    {
      "cell_type": "markdown",
      "metadata": {
        "id": "2xwl_YoeGSRX"
      },
      "source": [
        "Model 1 Tahun Sebelumnya"
      ]
    },
    {
      "cell_type": "code",
      "metadata": {
        "colab": {
          "base_uri": "https://localhost:8080/"
        },
        "id": "LF7zff_FGSRX",
        "outputId": "eed0de4d-5f1d-4324-98da-9207c363eca4"
      },
      "source": [
        "score = []\n",
        "for i in range(len(array_comb4)-1):\n",
        "    x13 = d2012[array_comb4[i]]\n",
        "    y13 = d2012['kelas']\n",
        "    x_train, x_test, y_train, y_test = train_test_split(x13,y13, test_size = 0.33, random_state = 123)\n",
        "    model13 = GaussianNB()\n",
        "    nbtrain13 = model13.fit(x_train, y_train)\n",
        "    y_pred = nbtrain13.predict(x_test)\n",
        "    a = accuracy_score(y_test,y_pred)\n",
        "    score.append(a)\n",
        "print('Akurasi maksimal dengan 4 fitur 0.33 test size',max(score))"
      ],
      "execution_count": 75,
      "outputs": [
        {
          "output_type": "stream",
          "name": "stdout",
          "text": [
            "Akurasi maksimal dengan 4 fitur 0.33 test size 0.9\n"
          ]
        }
      ]
    },
    {
      "cell_type": "code",
      "metadata": {
        "colab": {
          "base_uri": "https://localhost:8080/"
        },
        "id": "IHmLTi9FGSRY",
        "outputId": "317fd449-936f-4801-f394-c450adb55326"
      },
      "source": [
        "score = []\n",
        "for i in range(len(array_comb5)-1):\n",
        "    x13 = d2012[array_comb5[i]]\n",
        "    y13 = d2012['kelas']\n",
        "    x_train, x_test, y_train, y_test = train_test_split(x13,y13, test_size = 0.2, random_state = 123)\n",
        "    model13 = GaussianNB()\n",
        "    nbtrain13 = model13.fit(x_train, y_train)\n",
        "    y_pred = nbtrain13.predict(x_test)\n",
        "    a = accuracy_score(y_test,y_pred)\n",
        "    score.append(a)\n",
        "print('Akurasi maksimal dengan 5 fitur 0.2 test size',max(score))"
      ],
      "execution_count": 76,
      "outputs": [
        {
          "output_type": "stream",
          "name": "stdout",
          "text": [
            "Akurasi maksimal dengan 5 fitur 0.2 test size 0.8333333333333334\n"
          ]
        }
      ]
    },
    {
      "cell_type": "code",
      "metadata": {
        "colab": {
          "base_uri": "https://localhost:8080/"
        },
        "id": "e8i8nxSXGSRY",
        "outputId": "85f346de-46b5-49c8-eec1-22ee708ec769"
      },
      "source": [
        "score = []\n",
        "for i in range(len(array_comb5)-1):\n",
        "    x13 = d2012[array_comb5[i]]\n",
        "    y13 = d2012['kelas']\n",
        "    x_train, x_test, y_train, y_test = train_test_split(x13,y13, test_size = 0.33, random_state = 123)\n",
        "    model13 = GaussianNB()\n",
        "    nbtrain13 = model13.fit(x_train, y_train)\n",
        "    y_pred = nbtrain13.predict(x_test)\n",
        "    a = accuracy_score(y_test,y_pred)\n",
        "    score.append(a)\n",
        "print('Akurasi maksimal dengan 5 fitur 0.3 test size',max(score))"
      ],
      "execution_count": 77,
      "outputs": [
        {
          "output_type": "stream",
          "name": "stdout",
          "text": [
            "Akurasi maksimal dengan 5 fitur 0.3 test size 0.9\n"
          ]
        }
      ]
    },
    {
      "cell_type": "code",
      "metadata": {
        "colab": {
          "base_uri": "https://localhost:8080/"
        },
        "id": "1crMoPC7GSRY",
        "outputId": "7464a30b-c33f-4134-816d-fd3af5d786b6"
      },
      "source": [
        "score = []\n",
        "for i in range(len(array_comb6)-1):\n",
        "    x13 = d2012[array_comb6[i]]\n",
        "    y13 = d2012['kelas']\n",
        "    x_train, x_test, y_train, y_test = train_test_split(x13,y13, test_size = 0.2, random_state = 123)\n",
        "    model13 = GaussianNB()\n",
        "    nbtrain13 = model13.fit(x_train, y_train)\n",
        "    y_pred = nbtrain13.predict(x_test)\n",
        "    a = accuracy_score(y_test,y_pred)\n",
        "    score.append(a)\n",
        "print('Akurasi maksimal dengan 6 fitur 0.2 test size',max(score))"
      ],
      "execution_count": 78,
      "outputs": [
        {
          "output_type": "stream",
          "name": "stdout",
          "text": [
            "Akurasi maksimal dengan 6 fitur 0.2 test size 0.8333333333333334\n"
          ]
        }
      ]
    },
    {
      "cell_type": "code",
      "metadata": {
        "colab": {
          "base_uri": "https://localhost:8080/"
        },
        "id": "6El1kcUmGSRZ",
        "outputId": "a1a9cff0-a16b-4c8f-d8a3-d79584e938d4"
      },
      "source": [
        "score = []\n",
        "for i in range(len(array_comb6)-1):\n",
        "    x13 = d2012[array_comb6[i]]\n",
        "    y13 = d2012['kelas']\n",
        "    x_train, x_test, y_train, y_test = train_test_split(x13,y13, test_size = 0.33, random_state = 123)\n",
        "    model13 = GaussianNB()\n",
        "    nbtrain13 = model13.fit(x_train, y_train)\n",
        "    y_pred = nbtrain13.predict(x_test)\n",
        "    a = accuracy_score(y_test,y_pred)\n",
        "    score.append(a)\n",
        "print('Akurasi maksimal dengan 6 fitur 0.3 test size',max(score))"
      ],
      "execution_count": 79,
      "outputs": [
        {
          "output_type": "stream",
          "name": "stdout",
          "text": [
            "Akurasi maksimal dengan 6 fitur 0.3 test size 0.9\n"
          ]
        }
      ]
    },
    {
      "cell_type": "code",
      "metadata": {
        "colab": {
          "base_uri": "https://localhost:8080/"
        },
        "id": "cbsBgzi1GSRZ",
        "outputId": "5bab1a24-a30d-49e5-d21e-0f5a559fa919"
      },
      "source": [
        "score = []\n",
        "for i in range(len(array_comb7)-1):\n",
        "    x13 = d2012[array_comb7[i]]\n",
        "    y13 = d2012['kelas']\n",
        "    x_train, x_test, y_train, y_test = train_test_split(x13,y13, test_size = 0.2, random_state = 123)\n",
        "    model13 = GaussianNB()\n",
        "    nbtrain13 = model13.fit(x_train, y_train)\n",
        "    y_pred = nbtrain13.predict(x_test)\n",
        "    a = accuracy_score(y_test,y_pred)\n",
        "    score.append(a)\n",
        "print('Akurasi maksimal dengan 7 fitur 0.2 test size',max(score))"
      ],
      "execution_count": 80,
      "outputs": [
        {
          "output_type": "stream",
          "name": "stdout",
          "text": [
            "Akurasi maksimal dengan 7 fitur 0.2 test size 0.8333333333333334\n"
          ]
        }
      ]
    },
    {
      "cell_type": "code",
      "metadata": {
        "colab": {
          "base_uri": "https://localhost:8080/"
        },
        "id": "qpgULaxNGSRa",
        "outputId": "9c72d19f-c40f-43cd-d9d8-321e7f43488c"
      },
      "source": [
        "score = []\n",
        "for i in range(len(array_comb7)-1):\n",
        "    x13 = d2012[array_comb7[i]]\n",
        "    y13 = d2012['kelas']\n",
        "    x_train, x_test, y_train, y_test = train_test_split(x13,y13, test_size = 0.33, random_state = 123)\n",
        "    model13 = GaussianNB()\n",
        "    nbtrain13 = model13.fit(x_train, y_train)\n",
        "    y_pred = nbtrain13.predict(x_test)\n",
        "    a = accuracy_score(y_test,y_pred)\n",
        "    score.append(a)\n",
        "print('Akurasi maksimal dengan 7 fitur 0.33 test size',max(score))"
      ],
      "execution_count": 81,
      "outputs": [
        {
          "output_type": "stream",
          "name": "stdout",
          "text": [
            "Akurasi maksimal dengan 7 fitur 0.33 test size 0.9\n"
          ]
        }
      ]
    },
    {
      "cell_type": "code",
      "metadata": {
        "colab": {
          "base_uri": "https://localhost:8080/"
        },
        "id": "haF0Dl-gGSRa",
        "outputId": "a24dd855-34c4-481d-d690-abee618a4cec"
      },
      "source": [
        "score = []\n",
        "for i in range(len(array_comb8)-1):\n",
        "    x13 = d2012[array_comb8[i]]\n",
        "    y13 = d2012['kelas']\n",
        "    x_train, x_test, y_train, y_test = train_test_split(x13,y13, test_size = 0.33, random_state = 123)\n",
        "    model13 = GaussianNB()\n",
        "    nbtrain13 = model13.fit(x_train, y_train)\n",
        "    y_pred = nbtrain13.predict(x_test)\n",
        "    a = accuracy_score(y_test,y_pred)\n",
        "    score.append(a)\n",
        "print('Akurasi maksimal dengan 8 fitur 0.33 test size',max(score))"
      ],
      "execution_count": 82,
      "outputs": [
        {
          "output_type": "stream",
          "name": "stdout",
          "text": [
            "Akurasi maksimal dengan 8 fitur 0.33 test size 0.9\n"
          ]
        }
      ]
    },
    {
      "cell_type": "code",
      "metadata": {
        "colab": {
          "base_uri": "https://localhost:8080/"
        },
        "id": "_HR-j1aEGSRa",
        "outputId": "2215df45-c100-4812-d99f-8ff384523a3c"
      },
      "source": [
        "score = []\n",
        "for i in range(len(array_comb8)-1):\n",
        "    x13 = d2012[array_comb8[i]]\n",
        "    y13 = d2012['kelas']\n",
        "    x_train, x_test, y_train, y_test = train_test_split(x13,y13, test_size = 0.2, random_state = 123)\n",
        "    model13 = GaussianNB()\n",
        "    nbtrain13 = model13.fit(x_train, y_train)\n",
        "    y_pred = nbtrain13.predict(x_test)\n",
        "    a = accuracy_score(y_test,y_pred)\n",
        "    score.append(a)\n",
        "print('Akurasi maksimal dengan 8 fitur 0.2 test size',max(score))"
      ],
      "execution_count": 83,
      "outputs": [
        {
          "output_type": "stream",
          "name": "stdout",
          "text": [
            "Akurasi maksimal dengan 8 fitur 0.2 test size 0.8333333333333334\n"
          ]
        }
      ]
    },
    {
      "cell_type": "markdown",
      "metadata": {
        "id": "SjH8wEjKGSRb"
      },
      "source": [
        "Model 2 Tahun Sebelumnya"
      ]
    },
    {
      "cell_type": "code",
      "metadata": {
        "colab": {
          "base_uri": "https://localhost:8080/"
        },
        "id": "aCDWkv3EGSRb",
        "outputId": "80ada89c-8bba-4e18-8a44-f984d643d4b8"
      },
      "source": [
        "list14 = [d2012,d2013]\n",
        "d142 = pd.concat(list14) #Gabung\n",
        "# a14 = d142.drop([\"kelas\",\"kecamatan\"], axis = 1)\n",
        "score = []\n",
        "for i in range(len(array_comb4)-1):\n",
        "    a14 = d142[array_comb4[i]]\n",
        "    #Variabel dependen\n",
        "    b14 = d142[\"kelas\"]\n",
        "    a_train14, a_test14, b_train14, b_test14 = train_test_split(a14,b14, test_size = 0.2, random_state = 123)\n",
        "    modelb14 = GaussianNB()\n",
        "    natrain14 = modelb14.fit(a_train14, b_train14)\n",
        "    b_pred14 = natrain14.predict(a_test14)\n",
        "    a = accuracy_score(b_test14,b_pred14)\n",
        "    score.append(a)\n",
        "print('Akurasi maksimal dengan 4 fitur 0.2 test size',max(score))"
      ],
      "execution_count": 84,
      "outputs": [
        {
          "output_type": "stream",
          "name": "stdout",
          "text": [
            "Akurasi maksimal dengan 4 fitur 0.2 test size 0.9166666666666666\n"
          ]
        }
      ]
    },
    {
      "cell_type": "code",
      "metadata": {
        "colab": {
          "base_uri": "https://localhost:8080/"
        },
        "id": "XqFMtPisGSRb",
        "outputId": "6b339093-8128-404d-b237-819c19afc0c2"
      },
      "source": [
        "score = []\n",
        "for i in range(len(array_comb4)-1):\n",
        "    a14 = d142[array_comb4[i]]\n",
        "    #Variabel dependen\n",
        "    b14 = d142[\"kelas\"]\n",
        "    a_train14, a_test14, b_train14, b_test14 = train_test_split(a14,b14, test_size = 0.33, random_state = 123)\n",
        "    modelb14 = GaussianNB()\n",
        "    natrain14 = modelb14.fit(a_train14, b_train14)\n",
        "    b_pred14 = natrain14.predict(a_test14)\n",
        "    a = accuracy_score(b_test14,b_pred14)\n",
        "    score.append(a)\n",
        "print('Akurasi maksimal dengan 4 fitur 0.33 test size',max(score))"
      ],
      "execution_count": 85,
      "outputs": [
        {
          "output_type": "stream",
          "name": "stdout",
          "text": [
            "Akurasi maksimal dengan 4 fitur 0.33 test size 0.95\n"
          ]
        }
      ]
    },
    {
      "cell_type": "code",
      "metadata": {
        "colab": {
          "base_uri": "https://localhost:8080/"
        },
        "id": "rG-1zWFvGSRb",
        "outputId": "f9e4fe35-aac0-4bab-f764-8bf8a870312f"
      },
      "source": [
        "score = []\n",
        "for i in range(len(array_comb5)-1):\n",
        "    a14 = d142[array_comb5[i]]\n",
        "    #Variabel dependen\n",
        "    b14 = d142[\"kelas\"]\n",
        "    a_train14, a_test14, b_train14, b_test14 = train_test_split(a14,b14, test_size = 0.2, random_state = 123)\n",
        "    modelb14 = GaussianNB()\n",
        "    natrain14 = modelb14.fit(a_train14, b_train14)\n",
        "    b_pred14 = natrain14.predict(a_test14)\n",
        "    a = accuracy_score(b_test14,b_pred14)\n",
        "    score.append(a)\n",
        "print('Akurasi maksimal dengan 5 fitur 0.2 test size',max(score))"
      ],
      "execution_count": 86,
      "outputs": [
        {
          "output_type": "stream",
          "name": "stdout",
          "text": [
            "Akurasi maksimal dengan 5 fitur 0.2 test size 0.9166666666666666\n"
          ]
        }
      ]
    },
    {
      "cell_type": "code",
      "metadata": {
        "colab": {
          "base_uri": "https://localhost:8080/"
        },
        "id": "wBCmWvVzGSRc",
        "outputId": "43e264c9-986b-4baa-ed5c-10a189663c9a"
      },
      "source": [
        "score = []\n",
        "for i in range(len(array_comb5)-1):\n",
        "    a14 = d142[array_comb5[i]]\n",
        "    #Variabel dependen\n",
        "    b14 = d142[\"kelas\"]\n",
        "    a_train14, a_test14, b_train14, b_test14 = train_test_split(a14,b14, test_size = 0.33, random_state = 123)\n",
        "    modelb14 = GaussianNB()\n",
        "    natrain14 = modelb14.fit(a_train14, b_train14)\n",
        "    b_pred14 = natrain14.predict(a_test14)\n",
        "    a = accuracy_score(b_test14,b_pred14)\n",
        "    score.append(a)\n",
        "print('Akurasi maksimal dengan 5 fitur 0.33 test size',max(score))"
      ],
      "execution_count": 87,
      "outputs": [
        {
          "output_type": "stream",
          "name": "stdout",
          "text": [
            "Akurasi maksimal dengan 5 fitur 0.33 test size 0.95\n"
          ]
        }
      ]
    },
    {
      "cell_type": "code",
      "metadata": {
        "colab": {
          "base_uri": "https://localhost:8080/"
        },
        "id": "a0MdUifQGSRc",
        "outputId": "d40e5106-f9ee-4af8-d7ad-1e8e45e22cae"
      },
      "source": [
        "score = []\n",
        "for i in range(len(array_comb6)-1):\n",
        "    a14 = d142[array_comb6[i]]\n",
        "    #Variabel dependen\n",
        "    b14 = d142[\"kelas\"]\n",
        "    a_train14, a_test14, b_train14, b_test14 = train_test_split(a14,b14, test_size = 0.2, random_state = 123)\n",
        "    modelb14 = GaussianNB()\n",
        "    natrain14 = modelb14.fit(a_train14, b_train14)\n",
        "    b_pred14 = natrain14.predict(a_test14)\n",
        "    a = accuracy_score(b_test14,b_pred14)\n",
        "    score.append(a)\n",
        "print('Akurasi maksimal dengan 6 fitur 0.2 test size',max(score))"
      ],
      "execution_count": 88,
      "outputs": [
        {
          "output_type": "stream",
          "name": "stdout",
          "text": [
            "Akurasi maksimal dengan 6 fitur 0.2 test size 0.9166666666666666\n"
          ]
        }
      ]
    },
    {
      "cell_type": "code",
      "metadata": {
        "colab": {
          "base_uri": "https://localhost:8080/"
        },
        "id": "vDlc615lGSRc",
        "outputId": "15ff831b-28bd-411b-c1f3-81f7549c139f"
      },
      "source": [
        "score = []\n",
        "for i in range(len(array_comb6)-1):\n",
        "    a14 = d142[array_comb6[i]]\n",
        "    #Variabel dependen\n",
        "    b14 = d142[\"kelas\"]\n",
        "    a_train14, a_test14, b_train14, b_test14 = train_test_split(a14,b14, test_size = 0.33, random_state = 123)\n",
        "    modelb14 = GaussianNB()\n",
        "    natrain14 = modelb14.fit(a_train14, b_train14)\n",
        "    b_pred14 = natrain14.predict(a_test14)\n",
        "    a = accuracy_score(b_test14,b_pred14)\n",
        "    score.append(a)\n",
        "print('Akurasi maksimal dengan 6 fitur 0.33 test size',max(score))"
      ],
      "execution_count": 89,
      "outputs": [
        {
          "output_type": "stream",
          "name": "stdout",
          "text": [
            "Akurasi maksimal dengan 6 fitur 0.33 test size 0.9\n"
          ]
        }
      ]
    },
    {
      "cell_type": "code",
      "metadata": {
        "colab": {
          "base_uri": "https://localhost:8080/"
        },
        "id": "tLsWjC18GSRc",
        "outputId": "4593dc3a-83e8-4e72-933d-dcdd21af8350"
      },
      "source": [
        "score = []\n",
        "for i in range(len(array_comb7)-1):\n",
        "    a14 = d142[array_comb7[i]]\n",
        "    #Variabel dependen\n",
        "    b14 = d142[\"kelas\"]\n",
        "    a_train14, a_test14, b_train14, b_test14 = train_test_split(a14,b14, test_size = 0.2, random_state = 123)\n",
        "    modelb14 = GaussianNB()\n",
        "    natrain14 = modelb14.fit(a_train14, b_train14)\n",
        "    b_pred14 = natrain14.predict(a_test14)\n",
        "    a = accuracy_score(b_test14,b_pred14)\n",
        "    score.append(a)\n",
        "print('Akurasi maksimal dengan 7 fitur 0.2 test size',max(score))"
      ],
      "execution_count": 90,
      "outputs": [
        {
          "output_type": "stream",
          "name": "stdout",
          "text": [
            "Akurasi maksimal dengan 7 fitur 0.2 test size 0.9166666666666666\n"
          ]
        }
      ]
    },
    {
      "cell_type": "code",
      "metadata": {
        "colab": {
          "base_uri": "https://localhost:8080/"
        },
        "id": "Fnay6bfpGSRd",
        "outputId": "c03b30eb-13b1-433b-b1a0-893c86c47088"
      },
      "source": [
        "score = []\n",
        "for i in range(len(array_comb7)-1):\n",
        "    a14 = d142[array_comb7[i]]\n",
        "    #Variabel dependen\n",
        "    b14 = d142[\"kelas\"]\n",
        "    a_train14, a_test14, b_train14, b_test14 = train_test_split(a14,b14, test_size = 0.33, random_state = 123)\n",
        "    modelb14 = GaussianNB()\n",
        "    natrain14 = modelb14.fit(a_train14, b_train14)\n",
        "    b_pred14 = natrain14.predict(a_test14)\n",
        "    a = accuracy_score(b_test14,b_pred14)\n",
        "    score.append(a)\n",
        "print('Akurasi maksimal dengan 7 fitur 0.33 test size',max(score))"
      ],
      "execution_count": 91,
      "outputs": [
        {
          "output_type": "stream",
          "name": "stdout",
          "text": [
            "Akurasi maksimal dengan 7 fitur 0.33 test size 0.9\n"
          ]
        }
      ]
    },
    {
      "cell_type": "code",
      "metadata": {
        "colab": {
          "base_uri": "https://localhost:8080/"
        },
        "id": "ZQvl_r9eGSRd",
        "outputId": "c0c6cea9-bb50-4de0-ad2b-12c371ef3ab8"
      },
      "source": [
        "score = []\n",
        "for i in range(len(array_comb8)-1):\n",
        "    a14 = d142[array_comb8[i]]\n",
        "    #Variabel dependen\n",
        "    b14 = d142[\"kelas\"]\n",
        "    a_train14, a_test14, b_train14, b_test14 = train_test_split(a14,b14, test_size = 0.2, random_state = 123)\n",
        "    modelb14 = GaussianNB()\n",
        "    natrain14 = modelb14.fit(a_train14, b_train14)\n",
        "    b_pred14 = natrain14.predict(a_test14)\n",
        "    a = accuracy_score(b_test14,b_pred14)\n",
        "    score.append(a)\n",
        "print('Akurasi maksimal dengan 8 fitur 0.2 test size',max(score))"
      ],
      "execution_count": 92,
      "outputs": [
        {
          "output_type": "stream",
          "name": "stdout",
          "text": [
            "Akurasi maksimal dengan 8 fitur 0.2 test size 0.9166666666666666\n"
          ]
        }
      ]
    },
    {
      "cell_type": "code",
      "metadata": {
        "colab": {
          "base_uri": "https://localhost:8080/"
        },
        "id": "YQApmV2pGSRd",
        "outputId": "05b08be0-2a62-46e1-e153-0e350e11fd6a"
      },
      "source": [
        "score = []\n",
        "for i in range(len(array_comb8)-1):\n",
        "    a14 = d142[array_comb8[i]]\n",
        "    #Variabel dependen\n",
        "    b14 = d142[\"kelas\"]\n",
        "    a_train14, a_test14, b_train14, b_test14 = train_test_split(a14,b14, test_size = 0.33, random_state = 123)\n",
        "    modelb14 = GaussianNB()\n",
        "    natrain14 = modelb14.fit(a_train14, b_train14)\n",
        "    b_pred14 = natrain14.predict(a_test14)\n",
        "    a = accuracy_score(b_test14,b_pred14)\n",
        "    score.append(a)\n",
        "print('Akurasi maksimal dengan 8 fitur 0.33 test size',max(score))"
      ],
      "execution_count": 93,
      "outputs": [
        {
          "output_type": "stream",
          "name": "stdout",
          "text": [
            "Akurasi maksimal dengan 8 fitur 0.33 test size 0.9\n"
          ]
        }
      ]
    },
    {
      "cell_type": "markdown",
      "metadata": {
        "id": "CsCi-QqzGSRe"
      },
      "source": [
        "Model 3 Tahun Sebelumnya"
      ]
    },
    {
      "cell_type": "code",
      "metadata": {
        "colab": {
          "base_uri": "https://localhost:8080/"
        },
        "id": "2HpKUDezGSRe",
        "outputId": "dce30511-2506-40c9-8fd4-1fc782171010"
      },
      "source": [
        "list15 = [d2012,d2013,d2014]\n",
        "d153 = pd.concat(list15) #Gabung\n",
        "# a14 = d142.drop([\"kelas\",\"kecamatan\"], axis = 1)\n",
        "score = []\n",
        "for i in range(len(array_comb4)-1):\n",
        "    a14 = d153[array_comb4[i]]\n",
        "    #Variabel dependen\n",
        "    b14 = d153[\"kelas\"]\n",
        "    a_train14, a_test14, b_train14, b_test14 = train_test_split(a14,b14, test_size = 0.2, random_state = 123)\n",
        "    modelb14 = GaussianNB()\n",
        "    natrain14 = modelb14.fit(a_train14, b_train14)\n",
        "    b_pred14 = natrain14.predict(a_test14)\n",
        "    a = accuracy_score(b_test14,b_pred14)\n",
        "    score.append(a)\n",
        "print('Akurasi maksimal dengan 4 fitur 0.2 test size',max(score))"
      ],
      "execution_count": 94,
      "outputs": [
        {
          "output_type": "stream",
          "name": "stdout",
          "text": [
            "Akurasi maksimal dengan 4 fitur 0.2 test size 0.9444444444444444\n"
          ]
        }
      ]
    },
    {
      "cell_type": "code",
      "metadata": {
        "colab": {
          "base_uri": "https://localhost:8080/"
        },
        "id": "lH_LnkbSGSRe",
        "outputId": "00d1b14f-0e02-4f4a-9b18-0c16e2edad17"
      },
      "source": [
        "# a14 = d142.drop([\"kelas\",\"kecamatan\"], axis = 1)\n",
        "# fitur = array_comb4[14]\n",
        "score = []\n",
        "for i in range(len(array_comb4)-1):\n",
        "    a14 = d153[array_comb4[i]]\n",
        "    #Variabel dependen\n",
        "    b14 = d153[\"kelas\"]\n",
        "    a_train14, a_test14, b_train14, b_test14 = train_test_split(a14,b14, test_size = 0.33, random_state = 123)\n",
        "    modelb14 = GaussianNB()\n",
        "    natrain14 = modelb14.fit(a_train14, b_train14)\n",
        "    b_pred14 = natrain14.predict(a_test14)\n",
        "# print(accuracy_score(b_test14,b_pred14))\n",
        "    a = accuracy_score(b_test14,b_pred14)\n",
        "    score.append(a)\n",
        "# print('Akurasi maksimal dengan 4 fitur 0.2 test size',max(score))\n",
        "# a = set(score)\n",
        "# a\n",
        "# score.index(0.9666666666666667)\n",
        "array_comb4[15]"
      ],
      "execution_count": 95,
      "outputs": [
        {
          "output_type": "execute_result",
          "data": {
            "text/plain": [
              "array(['hujan', 'kelembapan', 'kasuslaki', 'jmlpenduduk'], dtype='<U11')"
            ]
          },
          "metadata": {},
          "execution_count": 95
        }
      ]
    },
    {
      "cell_type": "code",
      "metadata": {
        "colab": {
          "base_uri": "https://localhost:8080/"
        },
        "id": "Q2L0cLatGSRf",
        "outputId": "99694718-0be3-4b42-d8eb-a57e93f4910d"
      },
      "source": [
        "# a14 = d142.drop([\"kelas\",\"kecamatan\"], axis = 1)\n",
        "score = []\n",
        "for i in range(len(array_comb5)-1):\n",
        "    a14 = d153[array_comb5[i]]\n",
        "    #Variabel dependen\n",
        "    b14 = d153[\"kelas\"]\n",
        "    a_train14, a_test14, b_train14, b_test14 = train_test_split(a14,b14, test_size = 0.2, random_state = 123)\n",
        "    modelb14 = GaussianNB()\n",
        "    natrain14 = modelb14.fit(a_train14, b_train14)\n",
        "    b_pred14 = natrain14.predict(a_test14)\n",
        "    a = accuracy_score(b_test14,b_pred14)\n",
        "    score.append(a)\n",
        "print('Akurasi maksimal dengan 5 fitur 0.2 test size',max(score))"
      ],
      "execution_count": 96,
      "outputs": [
        {
          "output_type": "stream",
          "name": "stdout",
          "text": [
            "Akurasi maksimal dengan 5 fitur 0.2 test size 0.9444444444444444\n"
          ]
        }
      ]
    },
    {
      "cell_type": "code",
      "metadata": {
        "colab": {
          "base_uri": "https://localhost:8080/"
        },
        "id": "Pp4ZYdhkGSRg",
        "outputId": "bc1f0708-cd08-4f44-9aa9-848548c5943a"
      },
      "source": [
        "# a14 = d142.drop([\"kelas\",\"kecamatan\"], axis = 1)\n",
        "score = []\n",
        "for i in range(len(array_comb5)-1):\n",
        "    a14 = d153[array_comb5[i]]\n",
        "    #Variabel dependen\n",
        "    b14 = d153[\"kelas\"]\n",
        "    a_train14, a_test14, b_train14, b_test14 = train_test_split(a14,b14, test_size = 0.33, random_state = 123)\n",
        "    modelb14 = GaussianNB()\n",
        "    natrain14 = modelb14.fit(a_train14, b_train14)\n",
        "    b_pred14 = natrain14.predict(a_test14)\n",
        "    a = accuracy_score(b_test14,b_pred14)\n",
        "    score.append(a)\n",
        "print('Akurasi maksimal dengan 5 fitur 0.33 test size',max(score))"
      ],
      "execution_count": 97,
      "outputs": [
        {
          "output_type": "stream",
          "name": "stdout",
          "text": [
            "Akurasi maksimal dengan 5 fitur 0.33 test size 0.9666666666666667\n"
          ]
        }
      ]
    },
    {
      "cell_type": "code",
      "metadata": {
        "colab": {
          "base_uri": "https://localhost:8080/"
        },
        "id": "emYyNerhGSRg",
        "outputId": "74d8c912-ef52-4fe8-bce3-171f39e3f07f"
      },
      "source": [
        "# a14 = d142.drop([\"kelas\",\"kecamatan\"], axis = 1)\n",
        "score = []\n",
        "for i in range(len(array_comb6)-1):\n",
        "    a14 = d153[array_comb6[i]]\n",
        "    #Variabel dependen\n",
        "    b14 = d153[\"kelas\"]\n",
        "    a_train14, a_test14, b_train14, b_test14 = train_test_split(a14,b14, test_size = 0.2, random_state = 123)\n",
        "    modelb14 = GaussianNB()\n",
        "    natrain14 = modelb14.fit(a_train14, b_train14)\n",
        "    b_pred14 = natrain14.predict(a_test14)\n",
        "    a = accuracy_score(b_test14,b_pred14)\n",
        "    score.append(a)\n",
        "# print('Akurasi maksimal dengan 6 fitur 0.2 test size',max(score))\n",
        "# a = set(score)\n",
        "# a\n",
        "score.index(0.9444444444444444)\n",
        "array_comb6[21]"
      ],
      "execution_count": 98,
      "outputs": [
        {
          "output_type": "execute_result",
          "data": {
            "text/plain": [
              "array(['hujan', 'kelembapan', 'temperatur', 'kasuslaki', 'jmlpenduduk',\n",
              "       'noijazah'], dtype='<U11')"
            ]
          },
          "metadata": {},
          "execution_count": 98
        }
      ]
    },
    {
      "cell_type": "code",
      "metadata": {
        "colab": {
          "base_uri": "https://localhost:8080/"
        },
        "id": "Jl3ufWI_GSRg",
        "outputId": "042b5e01-72b6-4cd5-828b-ea660cab150d"
      },
      "source": [
        "# a14 = d142.drop([\"kelas\",\"kecamatan\"], axis = 1)\n",
        "score = []\n",
        "for i in range(len(array_comb6)-1):\n",
        "    a14 = d153[array_comb6[i]]\n",
        "    #Variabel dependen\n",
        "    b14 = d153[\"kelas\"]\n",
        "    a_train14, a_test14, b_train14, b_test14 = train_test_split(a14,b14, test_size = 0.33, random_state = 123)\n",
        "    modelb14 = GaussianNB()\n",
        "    natrain14 = modelb14.fit(a_train14, b_train14)\n",
        "    b_pred14 = natrain14.predict(a_test14)\n",
        "    a = accuracy_score(b_test14,b_pred14)\n",
        "    score.append(a)\n",
        "print('Akurasi maksimal dengan 6 fitur 0.33 test size',max(score))"
      ],
      "execution_count": 99,
      "outputs": [
        {
          "output_type": "stream",
          "name": "stdout",
          "text": [
            "Akurasi maksimal dengan 6 fitur 0.33 test size 0.9666666666666667\n"
          ]
        }
      ]
    },
    {
      "cell_type": "code",
      "metadata": {
        "colab": {
          "base_uri": "https://localhost:8080/"
        },
        "id": "YayyjTOtGSRh",
        "outputId": "3a2a3673-c875-40ab-dce6-20b2e4cabb37"
      },
      "source": [
        "# a14 = d142.drop([\"kelas\",\"kecamatan\"], axis = 1)\n",
        "score = []\n",
        "for i in range(len(array_comb7)-1):\n",
        "    a14 = d153[array_comb7[i]]\n",
        "    #Variabel dependen\n",
        "    b14 = d153[\"kelas\"]\n",
        "    a_train14, a_test14, b_train14, b_test14 = train_test_split(a14,b14, test_size = 0.2, random_state = 123)\n",
        "    modelb14 = GaussianNB()\n",
        "    natrain14 = modelb14.fit(a_train14, b_train14)\n",
        "    b_pred14 = natrain14.predict(a_test14)\n",
        "    a = accuracy_score(b_test14,b_pred14)\n",
        "    score.append(a)\n",
        "print('Akurasi maksimal dengan 7 fitur 0.2 test size',max(score))"
      ],
      "execution_count": 100,
      "outputs": [
        {
          "output_type": "stream",
          "name": "stdout",
          "text": [
            "Akurasi maksimal dengan 7 fitur 0.2 test size 0.9444444444444444\n"
          ]
        }
      ]
    },
    {
      "cell_type": "code",
      "metadata": {
        "colab": {
          "base_uri": "https://localhost:8080/"
        },
        "id": "MuKfg-FGGSRh",
        "outputId": "e96878e5-7365-4e50-eba1-0c1cc458c568"
      },
      "source": [
        "# a14 = d142.drop([\"kelas\",\"kecamatan\"], axis = 1)\n",
        "score = []\n",
        "for i in range(len(array_comb7)-1):\n",
        "    a14 = d153[array_comb7[i]]\n",
        "    #Variabel dependen\n",
        "    b14 = d153[\"kelas\"]\n",
        "    a_train14, a_test14, b_train14, b_test14 = train_test_split(a14,b14, test_size = 0.33, random_state = 123)\n",
        "    modelb14 = GaussianNB()\n",
        "    natrain14 = modelb14.fit(a_train14, b_train14)\n",
        "    b_pred14 = natrain14.predict(a_test14)\n",
        "    a = accuracy_score(b_test14,b_pred14)\n",
        "    score.append(a)\n",
        "print('Akurasi maksimal dengan 7 fitur 0.33 test size',max(score))"
      ],
      "execution_count": 101,
      "outputs": [
        {
          "output_type": "stream",
          "name": "stdout",
          "text": [
            "Akurasi maksimal dengan 7 fitur 0.33 test size 0.9666666666666667\n"
          ]
        }
      ]
    },
    {
      "cell_type": "code",
      "metadata": {
        "colab": {
          "base_uri": "https://localhost:8080/"
        },
        "id": "G2iFCMtmGSRh",
        "outputId": "0b1c774f-2acd-49c9-c72d-79a34c78ee1a"
      },
      "source": [
        "# a14 = d142.drop([\"kelas\",\"kecamatan\"], axis = 1)\n",
        "score = []\n",
        "for i in range(len(array_comb8)-1):\n",
        "    a14 = d153[array_comb8[i]]\n",
        "    #Variabel dependen\n",
        "    b14 = d153[\"kelas\"]\n",
        "    a_train14, a_test14, b_train14, b_test14 = train_test_split(a14,b14, test_size = 0.2, random_state = 123)\n",
        "    modelb14 = GaussianNB()\n",
        "    natrain14 = modelb14.fit(a_train14, b_train14)\n",
        "    b_pred14 = natrain14.predict(a_test14)\n",
        "    a = accuracy_score(b_test14,b_pred14)\n",
        "    score.append(a)\n",
        "print('Akurasi maksimal dengan 8 fitur 0.2 test size',max(score))"
      ],
      "execution_count": 102,
      "outputs": [
        {
          "output_type": "stream",
          "name": "stdout",
          "text": [
            "Akurasi maksimal dengan 8 fitur 0.2 test size 0.9444444444444444\n"
          ]
        }
      ]
    },
    {
      "cell_type": "code",
      "metadata": {
        "colab": {
          "base_uri": "https://localhost:8080/"
        },
        "id": "RMWUENAoGSRh",
        "outputId": "e83d930d-16cb-4247-c47c-520b4b6606cd"
      },
      "source": [
        "# a14 = d142.drop([\"kelas\",\"kecamatan\"], axis = 1)\n",
        "score = []\n",
        "for i in range(len(array_comb8)-1):\n",
        "    a14 = d153[array_comb8[i]]\n",
        "    #Variabel dependen\n",
        "    b14 = d153[\"kelas\"]\n",
        "    a_train14, a_test14, b_train14, b_test14 = train_test_split(a14,b14, test_size = 0.33, random_state = 123)\n",
        "    modelb14 = GaussianNB()\n",
        "    natrain14 = modelb14.fit(a_train14, b_train14)\n",
        "    b_pred14 = natrain14.predict(a_test14)\n",
        "    a = accuracy_score(b_test14,b_pred14)\n",
        "    score.append(a)\n",
        "print('Akurasi maksimal dengan 8 fitur 0.33 test size',max(score))"
      ],
      "execution_count": 103,
      "outputs": [
        {
          "output_type": "stream",
          "name": "stdout",
          "text": [
            "Akurasi maksimal dengan 8 fitur 0.33 test size 0.9666666666666667\n"
          ]
        }
      ]
    },
    {
      "cell_type": "markdown",
      "metadata": {
        "id": "_Id4fflQGSRi"
      },
      "source": [
        "Model 4 Tahun Sebelumnya"
      ]
    },
    {
      "cell_type": "code",
      "metadata": {
        "colab": {
          "base_uri": "https://localhost:8080/"
        },
        "id": "1YfQqkJZGSRi",
        "outputId": "bf1107d2-ecc9-4656-97de-7c918b2fe121"
      },
      "source": [
        "list164 = [d2012,d2013,d2014,d2015]\n",
        "d164 = pd.concat(list164) #Gabung\n",
        "# a14 = d142.drop([\"kelas\",\"kecamatan\"], axis = 1)\n",
        "score = []\n",
        "for i in range(len(array_comb4)-1):\n",
        "    a14 = d164[array_comb4[i]]\n",
        "    #Variabel dependen\n",
        "    b14 = d164[\"kelas\"]\n",
        "    a_train14, a_test14, b_train14, b_test14 = train_test_split(a14,b14, test_size = 0.2, random_state = 123)\n",
        "    modelb14 = GaussianNB()\n",
        "    natrain14 = modelb14.fit(a_train14, b_train14)\n",
        "    b_pred14 = natrain14.predict(a_test14)\n",
        "    a = accuracy_score(b_test14,b_pred14)\n",
        "    score.append(a)\n",
        "print('Akurasi maksimal dengan 4 fitur 0.2 test size',max(score))"
      ],
      "execution_count": 104,
      "outputs": [
        {
          "output_type": "stream",
          "name": "stdout",
          "text": [
            "Akurasi maksimal dengan 4 fitur 0.2 test size 0.9166666666666666\n"
          ]
        }
      ]
    },
    {
      "cell_type": "code",
      "metadata": {
        "colab": {
          "base_uri": "https://localhost:8080/"
        },
        "id": "ooSJyXzgGSRi",
        "outputId": "887951a5-bda1-417b-baf2-f5b4bc6a560e"
      },
      "source": [
        "# a14 = d142.drop([\"kelas\",\"kecamatan\"], axis = 1)\n",
        "score = []\n",
        "for i in range(len(array_comb4)-1):\n",
        "    a14 = d164[array_comb4[i]]\n",
        "    #Variabel dependen\n",
        "    b14 = d164[\"kelas\"]\n",
        "    a_train14, a_test14, b_train14, b_test14 = train_test_split(a14,b14, test_size = 0.33, random_state = 123)\n",
        "    modelb14 = GaussianNB()\n",
        "    natrain14 = modelb14.fit(a_train14, b_train14)\n",
        "    b_pred14 = natrain14.predict(a_test14)\n",
        "    a = accuracy_score(b_test14,b_pred14)\n",
        "    score.append(a)\n",
        "print('Akurasi maksimal dengan 4 fitur 0.33 test size',max(score))"
      ],
      "execution_count": 105,
      "outputs": [
        {
          "output_type": "stream",
          "name": "stdout",
          "text": [
            "Akurasi maksimal dengan 4 fitur 0.33 test size 0.9\n"
          ]
        }
      ]
    },
    {
      "cell_type": "code",
      "metadata": {
        "colab": {
          "base_uri": "https://localhost:8080/"
        },
        "id": "BQJL1ae8GSRj",
        "outputId": "182271e4-8ecc-4fb3-f5f0-c9b28fcecfba"
      },
      "source": [
        "# a14 = d142.drop([\"kelas\",\"kecamatan\"], axis = 1)\n",
        "score = []\n",
        "for i in range(len(array_comb5)-1):\n",
        "    a14 = d164[array_comb5[i]]\n",
        "    #Variabel dependen\n",
        "    b14 = d164[\"kelas\"]\n",
        "    a_train14, a_test14, b_train14, b_test14 = train_test_split(a14,b14, test_size = 0.2, random_state = 123)\n",
        "    modelb14 = GaussianNB()\n",
        "    natrain14 = modelb14.fit(a_train14, b_train14)\n",
        "    b_pred14 = natrain14.predict(a_test14)\n",
        "    a = accuracy_score(b_test14,b_pred14)\n",
        "    score.append(a)\n",
        "print('Akurasi maksimal dengan 5 fitur 0.2 test size',max(score))"
      ],
      "execution_count": 106,
      "outputs": [
        {
          "output_type": "stream",
          "name": "stdout",
          "text": [
            "Akurasi maksimal dengan 5 fitur 0.2 test size 0.875\n"
          ]
        }
      ]
    },
    {
      "cell_type": "code",
      "metadata": {
        "colab": {
          "base_uri": "https://localhost:8080/"
        },
        "id": "saCxUWO4GSRj",
        "outputId": "f85d93c0-7cfd-4893-9123-3b293ecb7c1c"
      },
      "source": [
        "score = []\n",
        "for i in range(len(array_comb5)-1):\n",
        "    a14 = d164[array_comb5[i]]\n",
        "    #Variabel dependen\n",
        "    b14 = d164[\"kelas\"]\n",
        "    a_train14, a_test14, b_train14, b_test14 = train_test_split(a14,b14, test_size = 0.33, random_state = 123)\n",
        "    modelb14 = GaussianNB()\n",
        "    natrain14 = modelb14.fit(a_train14, b_train14)\n",
        "    b_pred14 = natrain14.predict(a_test14)\n",
        "    a = accuracy_score(b_test14,b_pred14)\n",
        "    score.append(a)\n",
        "print('Akurasi maksimal dengan 5 fitur 0.33 test size',max(score))"
      ],
      "execution_count": 107,
      "outputs": [
        {
          "output_type": "stream",
          "name": "stdout",
          "text": [
            "Akurasi maksimal dengan 5 fitur 0.33 test size 0.85\n"
          ]
        }
      ]
    },
    {
      "cell_type": "code",
      "metadata": {
        "colab": {
          "base_uri": "https://localhost:8080/"
        },
        "id": "9w2xWMD4GSRj",
        "outputId": "e6c48411-e4f2-48c9-d035-4343b2cebb87"
      },
      "source": [
        "score = []\n",
        "for i in range(len(array_comb6)-1):\n",
        "    a14 = d164[array_comb6[i]]\n",
        "    #Variabel dependen\n",
        "    b14 = d164[\"kelas\"]\n",
        "    a_train14, a_test14, b_train14, b_test14 = train_test_split(a14,b14, test_size = 0.2, random_state = 123)\n",
        "    modelb14 = GaussianNB()\n",
        "    natrain14 = modelb14.fit(a_train14, b_train14)\n",
        "    b_pred14 = natrain14.predict(a_test14)\n",
        "    a = accuracy_score(b_test14,b_pred14)\n",
        "    score.append(a)\n",
        "print('Akurasi maksimal dengan 6 fitur 0.2 test size',max(score))"
      ],
      "execution_count": 108,
      "outputs": [
        {
          "output_type": "stream",
          "name": "stdout",
          "text": [
            "Akurasi maksimal dengan 6 fitur 0.2 test size 0.875\n"
          ]
        }
      ]
    },
    {
      "cell_type": "code",
      "metadata": {
        "id": "CE03OFuHGSRk",
        "colab": {
          "base_uri": "https://localhost:8080/"
        },
        "outputId": "8fef0174-bd89-44c8-bbc0-10f08a4828ad"
      },
      "source": [
        "score = []\n",
        "for i in range(len(array_comb6)-1):\n",
        "    a14 = d164[array_comb6[i]]\n",
        "    #Variabel dependen\n",
        "    b14 = d164[\"kelas\"]\n",
        "    a_train14, a_test14, b_train14, b_test14 = train_test_split(a14,b14, test_size = 0.33, random_state = 123)\n",
        "    modelb14 = GaussianNB()\n",
        "    natrain14 = modelb14.fit(a_train14, b_train14)\n",
        "    b_pred14 = natrain14.predict(a_test14)\n",
        "    a = accuracy_score(b_test14,b_pred14)\n",
        "    score.append(a)\n",
        "print('Akurasi maksimal dengan 6 fitur 0.33 test size',max(score))"
      ],
      "execution_count": 109,
      "outputs": [
        {
          "output_type": "stream",
          "name": "stdout",
          "text": [
            "Akurasi maksimal dengan 6 fitur 0.33 test size 0.85\n"
          ]
        }
      ]
    },
    {
      "cell_type": "code",
      "metadata": {
        "id": "srzyPE2SGSRk",
        "colab": {
          "base_uri": "https://localhost:8080/"
        },
        "outputId": "b1ccc59e-1ed1-4651-8313-887c42a6d50b"
      },
      "source": [
        "score = []\n",
        "for i in range(len(array_comb7)-1):\n",
        "    a14 = d164[array_comb7[i]]\n",
        "    #Variabel dependen\n",
        "    b14 = d164[\"kelas\"]\n",
        "    a_train14, a_test14, b_train14, b_test14 = train_test_split(a14,b14, test_size = 0.2, random_state = 123)\n",
        "    modelb14 = GaussianNB()\n",
        "    natrain14 = modelb14.fit(a_train14, b_train14)\n",
        "    b_pred14 = natrain14.predict(a_test14)\n",
        "    a = accuracy_score(b_test14,b_pred14)\n",
        "    score.append(a)\n",
        "print('Akurasi maksimal dengan 7 fitur 0.2 test size',max(score))"
      ],
      "execution_count": 110,
      "outputs": [
        {
          "output_type": "stream",
          "name": "stdout",
          "text": [
            "Akurasi maksimal dengan 7 fitur 0.2 test size 0.875\n"
          ]
        }
      ]
    },
    {
      "cell_type": "code",
      "metadata": {
        "id": "eTxPBm5rGSRk",
        "colab": {
          "base_uri": "https://localhost:8080/"
        },
        "outputId": "d61f0b08-0da9-4dfd-c829-3fe0ebc36085"
      },
      "source": [
        "score = []\n",
        "for i in range(len(array_comb7)-1):\n",
        "    a14 = d164[array_comb7[i]]\n",
        "    #Variabel dependen\n",
        "    b14 = d164[\"kelas\"]\n",
        "    a_train14, a_test14, b_train14, b_test14 = train_test_split(a14,b14, test_size = 0.33, random_state = 123)\n",
        "    modelb14 = GaussianNB()\n",
        "    natrain14 = modelb14.fit(a_train14, b_train14)\n",
        "    b_pred14 = natrain14.predict(a_test14)\n",
        "    a = accuracy_score(b_test14,b_pred14)\n",
        "    score.append(a)\n",
        "print('Akurasi maksimal dengan 7 fitur 0.33 test size',max(score))"
      ],
      "execution_count": 111,
      "outputs": [
        {
          "output_type": "stream",
          "name": "stdout",
          "text": [
            "Akurasi maksimal dengan 7 fitur 0.33 test size 0.85\n"
          ]
        }
      ]
    },
    {
      "cell_type": "code",
      "metadata": {
        "id": "L-TNrNfoGSRl",
        "colab": {
          "base_uri": "https://localhost:8080/"
        },
        "outputId": "86a8257c-074a-4833-e767-23f8d00c7039"
      },
      "source": [
        "score = []\n",
        "for i in range(len(array_comb8)-1):\n",
        "    a14 = d164[array_comb8[i]]\n",
        "    #Variabel dependen\n",
        "    b14 = d164[\"kelas\"]\n",
        "    a_train14, a_test14, b_train14, b_test14 = train_test_split(a14,b14, test_size = 0.2, random_state = 123)\n",
        "    modelb14 = GaussianNB()\n",
        "    natrain14 = modelb14.fit(a_train14, b_train14)\n",
        "    b_pred14 = natrain14.predict(a_test14)\n",
        "    a = accuracy_score(b_test14,b_pred14)\n",
        "    score.append(a)\n",
        "print('Akurasi maksimal dengan 8 fitur 0.2 test size',max(score))"
      ],
      "execution_count": 112,
      "outputs": [
        {
          "output_type": "stream",
          "name": "stdout",
          "text": [
            "Akurasi maksimal dengan 8 fitur 0.2 test size 0.875\n"
          ]
        }
      ]
    },
    {
      "cell_type": "code",
      "metadata": {
        "id": "kXUyRYNOGSRl",
        "colab": {
          "base_uri": "https://localhost:8080/"
        },
        "outputId": "631616c2-6395-4cf0-c2e5-301ea5f1fbe9"
      },
      "source": [
        "score = []\n",
        "for i in range(len(array_comb8)-1):\n",
        "    a14 = d164[array_comb8[i]]\n",
        "    #Variabel dependen\n",
        "    b14 = d164[\"kelas\"]\n",
        "    a_train14, a_test14, b_train14, b_test14 = train_test_split(a14,b14, test_size = 0.33, random_state = 123)\n",
        "    modelb14 = GaussianNB()\n",
        "    natrain14 = modelb14.fit(a_train14, b_train14)\n",
        "    b_pred14 = natrain14.predict(a_test14)\n",
        "    a = accuracy_score(b_test14,b_pred14)\n",
        "    score.append(a)\n",
        "print('Akurasi maksimal dengan 8 fitur 0.33 test size',max(score))"
      ],
      "execution_count": 113,
      "outputs": [
        {
          "output_type": "stream",
          "name": "stdout",
          "text": [
            "Akurasi maksimal dengan 8 fitur 0.33 test size 0.825\n"
          ]
        }
      ]
    },
    {
      "cell_type": "markdown",
      "metadata": {
        "id": "DquWVuY_GSRN"
      },
      "source": [
        "# Eksplorasi Perbandingan Fitur 4 vs 6"
      ]
    },
    {
      "cell_type": "code",
      "metadata": {
        "id": "ob7uq-X5GSRP",
        "colab": {
          "base_uri": "https://localhost:8080/"
        },
        "outputId": "b9813645-bb13-437c-fddc-37ed803194bc"
      },
      "source": [
        "score = []\n",
        "for i in range(len(array_comb4)-1):\n",
        "    x13 = d2012[array_comb4[i]]\n",
        "    y13 = d2012['kelas']\n",
        "    x_train, x_test, y_train, y_test = train_test_split(x13,y13, test_size = 0.2, random_state = 123)\n",
        "    model13 = GaussianNB()\n",
        "    nbtrain13 = model13.fit(x_train, y_train)\n",
        "    y_pred = nbtrain13.predict(x_test)\n",
        "    a = accuracy_score(y_test,y_pred)\n",
        "    score.append(a)\n",
        "# print('Akurasi maksimal dengan 4 fitur 0.2 test size',max(score))\n",
        "print(set(score))\n",
        "score.index(0.8333333333333334)\n",
        "array_comb4[0]"
      ],
      "execution_count": 114,
      "outputs": [
        {
          "output_type": "stream",
          "name": "stdout",
          "text": [
            "{0.8333333333333334}\n"
          ]
        },
        {
          "output_type": "execute_result",
          "data": {
            "text/plain": [
              "array(['hujan', 'kelembapan', 'temperatur', 'ketinggian'], dtype='<U11')"
            ]
          },
          "metadata": {},
          "execution_count": 114
        }
      ]
    },
    {
      "cell_type": "code",
      "metadata": {
        "id": "dq_4u9TmGSRR",
        "colab": {
          "base_uri": "https://localhost:8080/"
        },
        "outputId": "90b2f0a3-774e-4075-fbd5-8b070cde6daf"
      },
      "source": [
        "list14 = [d2012,d2013]\n",
        "d142 = pd.concat(list14) #Gabung\n",
        "# a14 = d142.drop([\"kelas\",\"kecamatan\"], axis = 1)\n",
        "score = []\n",
        "for i in range(len(array_comb4)-1):\n",
        "    a14 = d142[array_comb4[i]]\n",
        "    #Variabel dependen\n",
        "    b14 = d142[\"kelas\"]\n",
        "    a_train14, a_test14, b_train14, b_test14 = train_test_split(a14,b14, test_size = 0.2, random_state = 123)\n",
        "    modelb14 = GaussianNB()\n",
        "    natrain14 = modelb14.fit(a_train14, b_train14)\n",
        "    b_pred14 = natrain14.predict(a_test14)\n",
        "    a = accuracy_score(b_test14,b_pred14)\n",
        "    score.append(a)\n",
        "# print('Akurasi maksimal dengan 4 fitur 0.2 test size',max(score))\n",
        "print(set(score))\n",
        "score.index(0.9166666666666666)\n",
        "array_comb4[1]"
      ],
      "execution_count": 115,
      "outputs": [
        {
          "output_type": "stream",
          "name": "stdout",
          "text": [
            "{0.5833333333333334, 0.9166666666666666, 0.6666666666666666, 0.8333333333333334, 0.75, 0.5, 0.4166666666666667, 0.25, 0.3333333333333333}\n"
          ]
        },
        {
          "output_type": "execute_result",
          "data": {
            "text/plain": [
              "array(['hujan', 'kelembapan', 'temperatur', 'kasuslaki'], dtype='<U11')"
            ]
          },
          "metadata": {},
          "execution_count": 115
        }
      ]
    },
    {
      "cell_type": "code",
      "metadata": {
        "id": "4W3dPaChGSRS",
        "colab": {
          "base_uri": "https://localhost:8080/"
        },
        "outputId": "41d2a563-5ac9-41d1-d91f-729e486e2775"
      },
      "source": [
        "list14 = [d2012,d2013]\n",
        "d142 = pd.concat(list14) #Gabung\n",
        "# a14 = d142.drop([\"kelas\",\"kecamatan\"], axis = 1)\n",
        "score = []\n",
        "for i in range(len(array_comb4)-1):\n",
        "    a14 = d142[array_comb4[i]]\n",
        "    #Variabel dependen\n",
        "    b14 = d142[\"kelas\"]\n",
        "    a_train14, a_test14, b_train14, b_test14 = train_test_split(a14,b14, test_size = 0.2, random_state = 123)\n",
        "    modelb14 = GaussianNB()\n",
        "    natrain14 = modelb14.fit(a_train14, b_train14)\n",
        "    b_pred14 = natrain14.predict(a_test14)\n",
        "    a = accuracy_score(b_test14,b_pred14)\n",
        "    score.append(a)\n",
        "# print('Akurasi maksimal dengan 4 fitur 0.2 test size',max(score))\n",
        "print(set(score))\n",
        "score.index(0.9166666666666666)\n",
        "array_comb4[1]"
      ],
      "execution_count": 116,
      "outputs": [
        {
          "output_type": "stream",
          "name": "stdout",
          "text": [
            "{0.5833333333333334, 0.9166666666666666, 0.6666666666666666, 0.8333333333333334, 0.75, 0.5, 0.4166666666666667, 0.25, 0.3333333333333333}\n"
          ]
        },
        {
          "output_type": "execute_result",
          "data": {
            "text/plain": [
              "array(['hujan', 'kelembapan', 'temperatur', 'kasuslaki'], dtype='<U11')"
            ]
          },
          "metadata": {},
          "execution_count": 116
        }
      ]
    },
    {
      "cell_type": "code",
      "metadata": {
        "id": "wPRAwsnRGSRT",
        "colab": {
          "base_uri": "https://localhost:8080/"
        },
        "outputId": "90a80d60-81a8-47a4-f90f-08fc21bbffc3"
      },
      "source": [
        "# a14 = d142.drop([\"kelas\",\"kecamatan\"], axis = 1)\n",
        "list16 = [d2012,d2013,d2014,d2015]\n",
        "d164 = pd.concat(list16) #Gabung\n",
        "score = []\n",
        "for i in range(len(array_comb4)-1):\n",
        "    a14 = d164[array_comb4[i]]\n",
        "    #Variabel dependen\n",
        "    b14 = d164[\"kelas\"]\n",
        "    a_train14, a_test14, b_train14, b_test14 = train_test_split(a14,b14, test_size = 0.2, random_state = 123)\n",
        "    modelb14 = GaussianNB()\n",
        "    natrain14 = modelb14.fit(a_train14, b_train14)\n",
        "    b_pred14 = natrain14.predict(a_test14)\n",
        "    a = accuracy_score(b_test14,b_pred14)\n",
        "    score.append(a)\n",
        "# print('Akurasi maksimal dengan 6 fitur 0.2 test size',max(score))\n",
        "print(set(score))\n",
        "score.index(0.9166666666666666)\n",
        "array_comb4[128]"
      ],
      "execution_count": 117,
      "outputs": [
        {
          "output_type": "stream",
          "name": "stdout",
          "text": [
            "{0.5416666666666666, 0.7916666666666666, 0.8333333333333334, 0.6666666666666666, 0.7083333333333334, 0.75, 0.875, 0.625, 0.5833333333333334, 0.9166666666666666}\n"
          ]
        },
        {
          "output_type": "execute_result",
          "data": {
            "text/plain": [
              "array(['kelembapan', 'temperatur', 'kasuslaki', 'noijazah'], dtype='<U11')"
            ]
          },
          "metadata": {},
          "execution_count": 117
        }
      ]
    },
    {
      "cell_type": "code",
      "metadata": {
        "id": "8eCivMrFGSRT",
        "colab": {
          "base_uri": "https://localhost:8080/"
        },
        "outputId": "ec0554cd-5822-4d90-a9dc-1ff4b35491b1"
      },
      "source": [
        "# a14 = d142.drop([\"kelas\",\"kecamatan\"], axis = 1)\n",
        "list17 = [d2012,d2013,d2014,d2015,d2016]\n",
        "d175 = pd.concat(list17) #Gabung\n",
        "score = []\n",
        "for i in range(len(array_comb4)-1):\n",
        "    a14 = d175[array_comb4[i]]\n",
        "    #Variabel dependen\n",
        "    b14 = d175[\"kelas\"]\n",
        "    a_train14, a_test14, b_train14, b_test14 = train_test_split(a14,b14, test_size = 0.2, random_state = 123)\n",
        "    modelb14 = GaussianNB()\n",
        "    natrain14 = modelb14.fit(a_train14, b_train14)\n",
        "    b_pred14 = natrain14.predict(a_test14)\n",
        "    a = accuracy_score(b_test14,b_pred14)\n",
        "    score.append(a)\n",
        "# print('Akurasi maksimal dengan 6 fitur 0.2 test size',max(score))\n",
        "print(set(score))\n",
        "score.index(1.0)\n",
        "# score.index(0.9666666666666667)\n",
        "array_comb4[128]\n",
        "# array_comb4[8]"
      ],
      "execution_count": 118,
      "outputs": [
        {
          "output_type": "stream",
          "name": "stdout",
          "text": [
            "{0.7, 0.9, 0.9666666666666667, 0.9333333333333333, 0.8333333333333334, 0.8666666666666667, 0.8, 0.7666666666666667, 1.0}\n"
          ]
        },
        {
          "output_type": "execute_result",
          "data": {
            "text/plain": [
              "array(['kelembapan', 'temperatur', 'kasuslaki', 'noijazah'], dtype='<U11')"
            ]
          },
          "metadata": {},
          "execution_count": 118
        }
      ]
    },
    {
      "cell_type": "code",
      "metadata": {
        "id": "E4BzPn_tGSRU",
        "colab": {
          "base_uri": "https://localhost:8080/"
        },
        "outputId": "23706783-ce43-4af7-e468-c01a8bb3b5d5"
      },
      "source": [
        "score = []\n",
        "for i in range(len(array_comb6)-1):\n",
        "    x13 = d2012[array_comb6[i]]\n",
        "    y13 = d2012['kelas']\n",
        "    x_train, x_test, y_train, y_test = train_test_split(x13,y13, test_size = 0.2, random_state = 123)\n",
        "    model13 = GaussianNB()\n",
        "    nbtrain13 = model13.fit(x_train, y_train)\n",
        "    y_pred = nbtrain13.predict(x_test)\n",
        "    a = accuracy_score(y_test,y_pred)\n",
        "    score.append(a)\n",
        "# print('Akurasi maksimal dengan 4 fitur 0.2 test size',max(score))\n",
        "print(set(score))\n",
        "score.index(0.8333333333333334)\n",
        "array_comb6[0]"
      ],
      "execution_count": 119,
      "outputs": [
        {
          "output_type": "stream",
          "name": "stdout",
          "text": [
            "{0.8333333333333334}\n"
          ]
        },
        {
          "output_type": "execute_result",
          "data": {
            "text/plain": [
              "array(['hujan', 'kelembapan', 'temperatur', 'ketinggian', 'kasuslaki',\n",
              "       'jmlpenduduk'], dtype='<U11')"
            ]
          },
          "metadata": {},
          "execution_count": 119
        }
      ]
    },
    {
      "cell_type": "code",
      "metadata": {
        "colab": {
          "base_uri": "https://localhost:8080/"
        },
        "id": "UtTPXDYAGSRV",
        "outputId": "cd3b6a1b-926c-453c-cef0-bd9a5aeb6f73"
      },
      "source": [
        "list14 = [d2012,d2013]\n",
        "d142 = pd.concat(list14) #Gabung\n",
        "# a14 = d142.drop([\"kelas\",\"kecamatan\"], axis = 1)\n",
        "score = []\n",
        "for i in range(len(array_comb6)-1):\n",
        "    a14 = d142[array_comb6[i]]\n",
        "    #Variabel dependen\n",
        "    b14 = d142[\"kelas\"]\n",
        "    a_train14, a_test14, b_train14, b_test14 = train_test_split(a14,b14, test_size = 0.2, random_state = 123)\n",
        "    modelb14 = GaussianNB()\n",
        "    natrain14 = modelb14.fit(a_train14, b_train14)\n",
        "    b_pred14 = natrain14.predict(a_test14)\n",
        "    a = accuracy_score(b_test14,b_pred14)\n",
        "    score.append(a)\n",
        "# print('Akurasi maksimal dengan 4 fitur 0.2 test size',max(score))\n",
        "print(set(score))\n",
        "score.index(0.9166666666666666)\n",
        "array_comb6[21]"
      ],
      "execution_count": 120,
      "outputs": [
        {
          "output_type": "stream",
          "name": "stdout",
          "text": [
            "{0.8333333333333334, 0.75, 0.5833333333333334, 0.6666666666666666, 0.5, 0.9166666666666666, 0.4166666666666667, 0.3333333333333333, 0.25}\n"
          ]
        },
        {
          "output_type": "execute_result",
          "data": {
            "text/plain": [
              "array(['hujan', 'kelembapan', 'temperatur', 'kasuslaki', 'jmlpenduduk',\n",
              "       'noijazah'], dtype='<U11')"
            ]
          },
          "metadata": {},
          "execution_count": 120
        }
      ]
    },
    {
      "cell_type": "code",
      "metadata": {
        "colab": {
          "base_uri": "https://localhost:8080/"
        },
        "id": "t-uwXlX-GSRV",
        "outputId": "30cc32e6-74ac-4a7e-b6f6-6f448aba4898"
      },
      "source": [
        "list14 = [d2012,d2013,d2015]\n",
        "d142 = pd.concat(list14) #Gabung\n",
        "# a14 = d142.drop([\"kelas\",\"kecamatan\"], axis = 1)\n",
        "score = []\n",
        "for i in range(len(array_comb6)-1):\n",
        "    a14 = d142[array_comb6[i]]\n",
        "    #Variabel dependen\n",
        "    b14 = d142[\"kelas\"]\n",
        "    a_train14, a_test14, b_train14, b_test14 = train_test_split(a14,b14, test_size = 0.2, random_state = 123)\n",
        "    modelb14 = GaussianNB()\n",
        "    natrain14 = modelb14.fit(a_train14, b_train14)\n",
        "    b_pred14 = natrain14.predict(a_test14)\n",
        "    a = accuracy_score(b_test14,b_pred14)\n",
        "    score.append(a)\n",
        "# print('Akurasi maksimal dengan 4 fitur 0.2 test size',max(score))\n",
        "print(set(score))\n",
        "score.index(0.8333333333333334)\n",
        "array_comb6[21]"
      ],
      "execution_count": 121,
      "outputs": [
        {
          "output_type": "stream",
          "name": "stdout",
          "text": [
            "{0.7777777777777778, 0.7222222222222222, 0.5555555555555556, 0.6666666666666666, 0.6111111111111112, 0.8333333333333334, 0.5}\n"
          ]
        },
        {
          "output_type": "execute_result",
          "data": {
            "text/plain": [
              "array(['hujan', 'kelembapan', 'temperatur', 'kasuslaki', 'jmlpenduduk',\n",
              "       'noijazah'], dtype='<U11')"
            ]
          },
          "metadata": {},
          "execution_count": 121
        }
      ]
    },
    {
      "cell_type": "code",
      "metadata": {
        "colab": {
          "base_uri": "https://localhost:8080/"
        },
        "id": "ExH6orKYGSRW",
        "outputId": "84a780ff-ef56-4376-d3be-23b1586976b2"
      },
      "source": [
        "list14 = [d2012,d2013,d2015,d2016]\n",
        "d142 = pd.concat(list14) #Gabung\n",
        "# a14 = d142.drop([\"kelas\",\"kecamatan\"], axis = 1)\n",
        "score = []\n",
        "for i in range(len(array_comb6)-1):\n",
        "    a14 = d142[array_comb6[i]]\n",
        "    #Variabel dependen\n",
        "    b14 = d142[\"kelas\"]\n",
        "    a_train14, a_test14, b_train14, b_test14 = train_test_split(a14,b14, test_size = 0.2, random_state = 123)\n",
        "    modelb14 = GaussianNB()\n",
        "    natrain14 = modelb14.fit(a_train14, b_train14)\n",
        "    b_pred14 = natrain14.predict(a_test14)\n",
        "    a = accuracy_score(b_test14,b_pred14)\n",
        "    score.append(a)\n",
        "# print('Akurasi maksimal dengan 4 fitur 0.2 test size',max(score))\n",
        "print(set(score))\n",
        "score.index(0.9166666666666666)\n",
        "array_comb6[28]"
      ],
      "execution_count": 122,
      "outputs": [
        {
          "output_type": "stream",
          "name": "stdout",
          "text": [
            "{0.8333333333333334, 0.7916666666666666, 0.6666666666666666, 0.7083333333333334, 0.75, 0.875, 0.9166666666666666}\n"
          ]
        },
        {
          "output_type": "execute_result",
          "data": {
            "text/plain": [
              "array(['hujan', 'kelembapan', 'temperatur', 'kasuslaki', 'noijazah',\n",
              "       'tamatsmak'], dtype='<U11')"
            ]
          },
          "metadata": {},
          "execution_count": 122
        }
      ]
    },
    {
      "cell_type": "code",
      "metadata": {
        "colab": {
          "base_uri": "https://localhost:8080/"
        },
        "id": "XNHGzc6wGSRW",
        "outputId": "4597f6d2-1934-46c6-9c58-ff8cfd1e237c"
      },
      "source": [
        "list14 = [d2012,d2013,d2015,d2016,d2017]\n",
        "d142 = pd.concat(list14) #Gabung\n",
        "# a14 = d142.drop([\"kelas\",\"kecamatan\"], axis = 1)\n",
        "score = []\n",
        "for i in range(len(array_comb6)-1):\n",
        "    a14 = d142[array_comb6[i]]\n",
        "    #Variabel dependen\n",
        "    b14 = d142[\"kelas\"]\n",
        "    a_train14, a_test14, b_train14, b_test14 = train_test_split(a14,b14, test_size = 0.2, random_state = 123)\n",
        "    modelb14 = GaussianNB()\n",
        "    natrain14 = modelb14.fit(a_train14, b_train14)\n",
        "    b_pred14 = natrain14.predict(a_test14)\n",
        "    a = accuracy_score(b_test14,b_pred14)\n",
        "    score.append(a)\n",
        "# print('Akurasi maksimal dengan 4 fitur 0.2 test size',max(score))\n",
        "print(set(score))\n",
        "score.index(0.9)\n",
        "array_comb6[231]"
      ],
      "execution_count": 123,
      "outputs": [
        {
          "output_type": "stream",
          "name": "stdout",
          "text": [
            "{0.8666666666666667, 0.7666666666666667, 0.6666666666666666, 0.7333333333333333, 0.7, 0.8, 0.9, 0.8333333333333334, 0.6333333333333333}\n"
          ]
        },
        {
          "output_type": "execute_result",
          "data": {
            "text/plain": [
              "array(['hujan', 'kasuslaki', 'jmlpenduduk', 'noijazah', 'tamatsd',\n",
              "       'tamatsmp'], dtype='<U11')"
            ]
          },
          "metadata": {},
          "execution_count": 123
        }
      ]
    },
    {
      "cell_type": "markdown",
      "metadata": {
        "id": "pO6eLZhb5nFb"
      },
      "source": [
        "# Model Naive Bayes"
      ]
    },
    {
      "cell_type": "markdown",
      "metadata": {
        "id": "msiiHDyR9eRc"
      },
      "source": [
        "Input Feature dan Penggabungan data"
      ]
    },
    {
      "cell_type": "code",
      "metadata": {
        "id": "kbDIDWBj5s9J"
      },
      "source": [
        "fitur = ['hujan', 'kelembapan', 'temperatur', 'kasuslaki', 'jmlpenduduk',\n",
        "       'noijazah']"
      ],
      "execution_count": 124,
      "outputs": []
    },
    {
      "cell_type": "code",
      "metadata": {
        "id": "p4wOD232-Sf1"
      },
      "source": [
        "#Data 2 Tahun Sebelumnya\n",
        "listdata14 = [d2012,d2013]\n",
        "d142 = pd.concat(listdata14)\n",
        "listdata15 = [d2013,d2014]\n",
        "d152 = pd.concat(listdata15)\n",
        "listdata16 = [d2014,d2015]\n",
        "d162 = pd.concat(listdata16)\n",
        "listdata17 = [d2015,d2016]\n",
        "d172 = pd.concat(listdata17)\n",
        "listdata18 = [d2016,d2017]\n",
        "d182 = pd.concat(listdata18)\n",
        "\n",
        "#Data 3 Tahun Sebelumnya\n",
        "listdata153 = [d2012,d2013,d2014]\n",
        "d153 = pd.concat(listdata153)\n",
        "listdata163 = [d2013,d2014,d2015]\n",
        "d163 = pd.concat(listdata163)\n",
        "listdata173 = [d2014,d2015,d2016]\n",
        "d173 = pd.concat(listdata173)\n",
        "listdata183 = [d2015,d2016,d2017]\n",
        "d183 = pd.concat(listdata183)\n",
        "\n",
        "#Data 4 Tahun Sebelumnya\n",
        "listdata164 = [d2012,d2013,d2014,d2015]\n",
        "d164 = pd.concat(listdata164)\n",
        "listdata174 = [d2013,d2014,d2015,d2016]\n",
        "d174 = pd.concat(listdata174)\n",
        "listdata184 = [d2014,d2015,d2016,d2017]\n",
        "d184 = pd.concat(listdata184)\n",
        "\n",
        "#Data 5 Tahun Sebelumnya\n",
        "listdata175 = [d2012,d2013,d2014,d2015,d2016]\n",
        "d175 = pd.concat(listdata175)\n",
        "listdata185 = [d2013,d2014,d2015,d2016,d2017]\n",
        "d185 = pd.concat(listdata185)"
      ],
      "execution_count": 125,
      "outputs": []
    },
    {
      "cell_type": "markdown",
      "metadata": {
        "id": "JCygZgYh6y6v"
      },
      "source": [
        "##Model dengan faktor 1 Tahun Sebelumnya"
      ]
    },
    {
      "cell_type": "code",
      "metadata": {
        "colab": {
          "base_uri": "https://localhost:8080/"
        },
        "id": "dz_Eou7Y6TMP",
        "outputId": "972905fa-b5b0-44de-ae62-56ccbf03468c"
      },
      "source": [
        "x13 = d2012[fitur]\n",
        "y13 = d2012['kelas']\n",
        "x_train, x_test, y_train, y_test = train_test_split(x13,y13, test_size = 0.2, random_state = 123)\n",
        "model13 = GaussianNB()\n",
        "nbtrain13 = model13.fit(x_train, y_train)\n",
        "y_pred = nbtrain13.predict(x_test)\n",
        "# print(accuracy_score(y_test,y_pred))\n",
        "# print(precision_score(y_test,y_pred,average=\"micro\",pos_label=\"pos\"))\n",
        "print(classification_report(y_test,y_pred))\n",
        "len(x_train)"
      ],
      "execution_count": 126,
      "outputs": [
        {
          "output_type": "stream",
          "name": "stdout",
          "text": [
            "              precision    recall  f1-score   support\n",
            "\n",
            "           0       0.00      0.00      0.00         1\n",
            "           2       0.83      1.00      0.91         5\n",
            "\n",
            "    accuracy                           0.83         6\n",
            "   macro avg       0.42      0.50      0.45         6\n",
            "weighted avg       0.69      0.83      0.76         6\n",
            "\n"
          ]
        },
        {
          "output_type": "stream",
          "name": "stderr",
          "text": [
            "/usr/local/lib/python3.7/dist-packages/sklearn/metrics/_classification.py:1272: UndefinedMetricWarning: Precision and F-score are ill-defined and being set to 0.0 in labels with no predicted samples. Use `zero_division` parameter to control this behavior.\n",
            "  _warn_prf(average, modifier, msg_start, len(result))\n"
          ]
        },
        {
          "output_type": "execute_result",
          "data": {
            "text/plain": [
              "24"
            ]
          },
          "metadata": {},
          "execution_count": 126
        }
      ]
    },
    {
      "cell_type": "code",
      "metadata": {
        "colab": {
          "base_uri": "https://localhost:8080/"
        },
        "id": "B0eIdpY38NPe",
        "outputId": "cbbc42ed-fc73-460a-9f80-584e6f6319b2"
      },
      "source": [
        "x14 = d2013[fitur]\n",
        "y14 = d2013['kelas']\n",
        "x_train, x_test, y_train, y_test = train_test_split(x14,y14, test_size = 0.2, random_state = 123)\n",
        "model14 = GaussianNB()\n",
        "nbtrain14 = model14.fit(x_train, y_train)\n",
        "y_pred = nbtrain14.predict(x_test)\n",
        "# print(accuracy_score(y_test,y_pred))\n",
        "# print(precision_score(y_test,y_pred,average=\"micro\",pos_label=\"pos\"))\n",
        "print(classification_report(y_test,y_pred))"
      ],
      "execution_count": 127,
      "outputs": [
        {
          "output_type": "stream",
          "name": "stdout",
          "text": [
            "              precision    recall  f1-score   support\n",
            "\n",
            "           1       0.33      1.00      0.50         1\n",
            "           2       1.00      0.60      0.75         5\n",
            "\n",
            "    accuracy                           0.67         6\n",
            "   macro avg       0.67      0.80      0.62         6\n",
            "weighted avg       0.89      0.67      0.71         6\n",
            "\n"
          ]
        }
      ]
    },
    {
      "cell_type": "code",
      "metadata": {
        "colab": {
          "base_uri": "https://localhost:8080/"
        },
        "id": "AJyJ_2wL8lD9",
        "outputId": "c4bb32b7-7ba2-4f85-dbd5-59dff15d568e"
      },
      "source": [
        "x15 = d2014[fitur]\n",
        "y15 = d2014['kelas']\n",
        "x_train, x_test, y_train, y_test = train_test_split(x15,y15, test_size = 0.2, random_state = 123)\n",
        "model15 = GaussianNB()\n",
        "nbtrain15 = model15.fit(x_train, y_train)\n",
        "y_pred = nbtrain15.predict(x_test)\n",
        "# print(accuracy_score(y_test,y_pred))\n",
        "# print(precision_score(y_test,y_pred,average=\"micro\",pos_label=\"pos\"))\n",
        "print(classification_report(y_test,y_pred))"
      ],
      "execution_count": 128,
      "outputs": [
        {
          "output_type": "stream",
          "name": "stdout",
          "text": [
            "              precision    recall  f1-score   support\n",
            "\n",
            "           2       1.00      1.00      1.00         6\n",
            "\n",
            "    accuracy                           1.00         6\n",
            "   macro avg       1.00      1.00      1.00         6\n",
            "weighted avg       1.00      1.00      1.00         6\n",
            "\n"
          ]
        }
      ]
    },
    {
      "cell_type": "code",
      "metadata": {
        "colab": {
          "base_uri": "https://localhost:8080/"
        },
        "id": "NrkyIBny8vHG",
        "outputId": "291b6783-70f4-4ec3-9a76-13c2b2e97b2e"
      },
      "source": [
        "x16 = d2015[fitur]\n",
        "y16 = d2015['kelas']\n",
        "x_train, x_test, y_train, y_test = train_test_split(x16,y16, test_size = 0.2, random_state = 123)\n",
        "model16 = GaussianNB()\n",
        "nbtrain16 = model16.fit(x_train, y_train)\n",
        "y_pred = nbtrain16.predict(x_test)\n",
        "# print(accuracy_score(y_test,y_pred))\n",
        "# print(precision_score(y_test,y_pred,average=\"micro\",pos_label=\"pos\"))\n",
        "print(classification_report(y_test,y_pred))"
      ],
      "execution_count": 129,
      "outputs": [
        {
          "output_type": "stream",
          "name": "stdout",
          "text": [
            "              precision    recall  f1-score   support\n",
            "\n",
            "           1       0.50      0.50      0.50         2\n",
            "           2       0.75      0.75      0.75         4\n",
            "\n",
            "    accuracy                           0.67         6\n",
            "   macro avg       0.62      0.62      0.62         6\n",
            "weighted avg       0.67      0.67      0.67         6\n",
            "\n"
          ]
        }
      ]
    },
    {
      "cell_type": "code",
      "metadata": {
        "colab": {
          "base_uri": "https://localhost:8080/"
        },
        "id": "SEUdupZQ87R2",
        "outputId": "7d540f23-0f0e-4e1c-967a-7c3457d3f705"
      },
      "source": [
        "x17 = d2016[fitur]\n",
        "y17 = d2016['kelas']\n",
        "x_train, x_test, y_train, y_test = train_test_split(x17,y17, test_size = 0.2, random_state = 123)\n",
        "model17 = GaussianNB()\n",
        "nbtrain17 = model17.fit(x_train, y_train)\n",
        "y_pred = nbtrain17.predict(x_test)\n",
        "# print(accuracy_score(y_test,y_pred))\n",
        "# print(precision_score(y_test,y_pred,average=\"micro\",pos_label=\"pos\"))\n",
        "print(classification_report(y_test,y_pred))"
      ],
      "execution_count": 130,
      "outputs": [
        {
          "output_type": "stream",
          "name": "stdout",
          "text": [
            "              precision    recall  f1-score   support\n",
            "\n",
            "           2       1.00      1.00      1.00         6\n",
            "\n",
            "    accuracy                           1.00         6\n",
            "   macro avg       1.00      1.00      1.00         6\n",
            "weighted avg       1.00      1.00      1.00         6\n",
            "\n"
          ]
        }
      ]
    },
    {
      "cell_type": "code",
      "metadata": {
        "colab": {
          "base_uri": "https://localhost:8080/"
        },
        "id": "Lvgd3Dp39GD8",
        "outputId": "cadd58c1-e559-44e0-903d-e5f3eedc9628"
      },
      "source": [
        "x18 = d2017[fitur]\n",
        "y18 = d2017['kelas']\n",
        "x_train, x_test, y_train, y_test = train_test_split(x17,y17, test_size = 0.2, random_state = 123)\n",
        "model18 = GaussianNB()\n",
        "nbtrain18 = model18.fit(x_train, y_train)\n",
        "y_pred = nbtrain18.predict(x_test)\n",
        "# print(accuracy_score(y_test,y_pred))\n",
        "# print(precision_score(y_test,y_pred,average=\"micro\",pos_label=\"pos\"))\n",
        "print(classification_report(y_test,y_pred))"
      ],
      "execution_count": 131,
      "outputs": [
        {
          "output_type": "stream",
          "name": "stdout",
          "text": [
            "              precision    recall  f1-score   support\n",
            "\n",
            "           2       1.00      1.00      1.00         6\n",
            "\n",
            "    accuracy                           1.00         6\n",
            "   macro avg       1.00      1.00      1.00         6\n",
            "weighted avg       1.00      1.00      1.00         6\n",
            "\n"
          ]
        }
      ]
    },
    {
      "cell_type": "markdown",
      "metadata": {
        "id": "3LywDGHL_O4p"
      },
      "source": [
        "##Model dengan faktor 2 Tahun Sebelumnya"
      ]
    },
    {
      "cell_type": "code",
      "metadata": {
        "colab": {
          "base_uri": "https://localhost:8080/"
        },
        "id": "AdGKVD18_Sxq",
        "outputId": "42bf481c-c140-4675-c2df-48ba942dcbba"
      },
      "source": [
        "x142 = d142[fitur]\n",
        "y142 = d142['kelas']\n",
        "x_train, x_test, y_train, y_test = train_test_split(x142,y142, test_size = 0.2, random_state = 123)\n",
        "model142 = GaussianNB()\n",
        "nbtrain142 = model142.fit(x_train, y_train)\n",
        "y_pred = nbtrain142.predict(x_test)\n",
        "# print(accuracy_score(y_test,y_pred))\n",
        "# print(precision_score(y_test,y_pred,average=\"micro\",pos_label=\"pos\"))\n",
        "print(classification_report(y_test,y_pred))"
      ],
      "execution_count": 132,
      "outputs": [
        {
          "output_type": "stream",
          "name": "stdout",
          "text": [
            "              precision    recall  f1-score   support\n",
            "\n",
            "           1       1.00      0.50      0.67         2\n",
            "           2       0.91      1.00      0.95        10\n",
            "\n",
            "    accuracy                           0.92        12\n",
            "   macro avg       0.95      0.75      0.81        12\n",
            "weighted avg       0.92      0.92      0.90        12\n",
            "\n"
          ]
        }
      ]
    },
    {
      "cell_type": "code",
      "metadata": {
        "colab": {
          "base_uri": "https://localhost:8080/"
        },
        "id": "EteoJ8nuERj9",
        "outputId": "856ad605-155b-4677-ba88-661471762b17"
      },
      "source": [
        "x152 = d152[fitur]\n",
        "y152 = d152['kelas']\n",
        "x_train, x_test, y_train, y_test = train_test_split(x152,y152, test_size = 0.2, random_state = 123)\n",
        "model152 = GaussianNB()\n",
        "nbtrain152 = model152.fit(x_train, y_train)\n",
        "y_pred = nbtrain152.predict(x_test)\n",
        "# print(accuracy_score(y_test,y_pred))\n",
        "# print(precision_score(y_test,y_pred,average=\"micro\",pos_label=\"pos\"))\n",
        "print(classification_report(y_test,y_pred))"
      ],
      "execution_count": 133,
      "outputs": [
        {
          "output_type": "stream",
          "name": "stdout",
          "text": [
            "              precision    recall  f1-score   support\n",
            "\n",
            "           1       0.67      1.00      0.80         2\n",
            "           2       1.00      0.90      0.95        10\n",
            "\n",
            "    accuracy                           0.92        12\n",
            "   macro avg       0.83      0.95      0.87        12\n",
            "weighted avg       0.94      0.92      0.92        12\n",
            "\n"
          ]
        }
      ]
    },
    {
      "cell_type": "code",
      "metadata": {
        "colab": {
          "base_uri": "https://localhost:8080/"
        },
        "id": "D7bynyPA_ehT",
        "outputId": "e4bc0a5e-5c65-42f2-f909-34be73b560ac"
      },
      "source": [
        "x162 = d162[fitur]\n",
        "y162 = d162['kelas']\n",
        "x_train, x_test, y_train, y_test = train_test_split(x162,y162, test_size = 0.2, random_state = 123)\n",
        "model162 = GaussianNB()\n",
        "nbtrain162 = model162.fit(x_train, y_train)\n",
        "y_pred = nbtrain162.predict(x_test)\n",
        "# print(accuracy_score(y_test,y_pred))\n",
        "# print(precision_score(y_test,y_pred,average=\"micro\",pos_label=\"pos\"))\n",
        "print(classification_report(y_test,y_pred))"
      ],
      "execution_count": 134,
      "outputs": [
        {
          "output_type": "stream",
          "name": "stdout",
          "text": [
            "              precision    recall  f1-score   support\n",
            "\n",
            "           1       1.00      0.75      0.86         4\n",
            "           2       0.89      1.00      0.94         8\n",
            "\n",
            "    accuracy                           0.92        12\n",
            "   macro avg       0.94      0.88      0.90        12\n",
            "weighted avg       0.93      0.92      0.91        12\n",
            "\n"
          ]
        }
      ]
    },
    {
      "cell_type": "code",
      "metadata": {
        "colab": {
          "base_uri": "https://localhost:8080/"
        },
        "id": "yOpNTmnhEliN",
        "outputId": "ccccd7f6-c3f4-4f09-c405-fc19ec4c773c"
      },
      "source": [
        "x172 = d172[fitur]\n",
        "y172 = d172['kelas']\n",
        "x_train, x_test, y_train, y_test = train_test_split(x172,y172, test_size = 0.2, random_state = 123)\n",
        "model172 = GaussianNB()\n",
        "nbtrain172 = model172.fit(x_train, y_train)\n",
        "y_pred = nbtrain172.predict(x_test)\n",
        "# print(accuracy_score(y_test,y_pred))\n",
        "# print(precision_score(y_test,y_pred,average=\"micro\",pos_label=\"pos\"))\n",
        "print(classification_report(y_test,y_pred))"
      ],
      "execution_count": 135,
      "outputs": [
        {
          "output_type": "stream",
          "name": "stdout",
          "text": [
            "              precision    recall  f1-score   support\n",
            "\n",
            "           1       0.80      0.67      0.73         6\n",
            "           2       0.71      0.83      0.77         6\n",
            "\n",
            "    accuracy                           0.75        12\n",
            "   macro avg       0.76      0.75      0.75        12\n",
            "weighted avg       0.76      0.75      0.75        12\n",
            "\n"
          ]
        }
      ]
    },
    {
      "cell_type": "code",
      "metadata": {
        "colab": {
          "base_uri": "https://localhost:8080/"
        },
        "id": "PXsoIvp4_nZQ",
        "outputId": "f3e121c3-b23f-4da2-8d28-60e4a88cf7d5"
      },
      "source": [
        "x182 = d182[fitur]\n",
        "y182 = d182['kelas']\n",
        "x_train, x_test, y_train, y_test = train_test_split(x182,y182, test_size = 0.2, random_state = 123)\n",
        "model182 = GaussianNB()\n",
        "nbtrain182 = model182.fit(x_train, y_train)\n",
        "y_pred = nbtrain182.predict(x_test)\n",
        "# print(accuracy_score(y_test,y_pred))\n",
        "# print(precision_score(y_test,y_pred,average=\"micro\",pos_label=\"pos\"))\n",
        "print(classification_report(y_test,y_pred))"
      ],
      "execution_count": 136,
      "outputs": [
        {
          "output_type": "stream",
          "name": "stdout",
          "text": [
            "              precision    recall  f1-score   support\n",
            "\n",
            "           0       1.00      1.00      1.00         1\n",
            "           1       1.00      1.00      1.00         4\n",
            "           2       1.00      1.00      1.00         7\n",
            "\n",
            "    accuracy                           1.00        12\n",
            "   macro avg       1.00      1.00      1.00        12\n",
            "weighted avg       1.00      1.00      1.00        12\n",
            "\n"
          ]
        }
      ]
    },
    {
      "cell_type": "markdown",
      "metadata": {
        "id": "ZrJxiArQ_0hk"
      },
      "source": [
        "##Model dengan faktor 3 Tahun Sebelumnya"
      ]
    },
    {
      "cell_type": "code",
      "metadata": {
        "colab": {
          "base_uri": "https://localhost:8080/"
        },
        "id": "eOXg9xjg_5e6",
        "outputId": "697bafb9-c6f2-43d8-be9b-01072aa7451a"
      },
      "source": [
        "x153 = d153[fitur]\n",
        "y153 = d153['kelas']\n",
        "x_train, x_test, y_train, y_test = train_test_split(x153,y153, test_size = 0.2, random_state = 123)\n",
        "model153 = GaussianNB()\n",
        "nbtrain153 = model153.fit(x_train, y_train)\n",
        "y_pred = nbtrain153.predict(x_test)\n",
        "# print(accuracy_score(y_test,y_pred))\n",
        "# print(precision_score(y_test,y_pred,average=\"micro\",pos_label=\"pos\"))\n",
        "print(classification_report(y_test,y_pred))"
      ],
      "execution_count": 137,
      "outputs": [
        {
          "output_type": "stream",
          "name": "stdout",
          "text": [
            "              precision    recall  f1-score   support\n",
            "\n",
            "           0       0.00      0.00      0.00         1\n",
            "           1       1.00      1.00      1.00         1\n",
            "           2       0.94      1.00      0.97        16\n",
            "\n",
            "    accuracy                           0.94        18\n",
            "   macro avg       0.65      0.67      0.66        18\n",
            "weighted avg       0.89      0.94      0.92        18\n",
            "\n"
          ]
        },
        {
          "output_type": "stream",
          "name": "stderr",
          "text": [
            "/usr/local/lib/python3.7/dist-packages/sklearn/metrics/_classification.py:1272: UndefinedMetricWarning: Precision and F-score are ill-defined and being set to 0.0 in labels with no predicted samples. Use `zero_division` parameter to control this behavior.\n",
            "  _warn_prf(average, modifier, msg_start, len(result))\n"
          ]
        }
      ]
    },
    {
      "cell_type": "code",
      "metadata": {
        "colab": {
          "base_uri": "https://localhost:8080/"
        },
        "id": "uPN0PGIZBXmZ",
        "outputId": "67fa000f-9485-4f51-e572-ad9b48bcc6ce"
      },
      "source": [
        "x163 = d163[fitur]\n",
        "y163 = d163['kelas']\n",
        "x_train, x_test, y_train, y_test = train_test_split(x163,y163, test_size = 0.2, random_state = 123)\n",
        "model163 = GaussianNB()\n",
        "nbtrain163 = model163.fit(x_train, y_train)\n",
        "y_pred = nbtrain163.predict(x_test)\n",
        "# print(accuracy_score(y_test,y_pred))\n",
        "# print(precision_score(y_test,y_pred,average=\"micro\",pos_label=\"pos\"))\n",
        "print(classification_report(y_test,y_pred))"
      ],
      "execution_count": 138,
      "outputs": [
        {
          "output_type": "stream",
          "name": "stdout",
          "text": [
            "              precision    recall  f1-score   support\n",
            "\n",
            "           1       0.80      0.80      0.80         5\n",
            "           2       0.92      0.92      0.92        13\n",
            "\n",
            "    accuracy                           0.89        18\n",
            "   macro avg       0.86      0.86      0.86        18\n",
            "weighted avg       0.89      0.89      0.89        18\n",
            "\n"
          ]
        }
      ]
    },
    {
      "cell_type": "code",
      "metadata": {
        "colab": {
          "base_uri": "https://localhost:8080/"
        },
        "id": "FeRYAD_qBgvP",
        "outputId": "ca95504d-58a1-4837-aae0-070053ddd640"
      },
      "source": [
        "x173 = d173[fitur]\n",
        "y173 = d173['kelas']\n",
        "x_train, x_test, y_train, y_test = train_test_split(x173,y173, test_size = 0.2, random_state = 123)\n",
        "model173 = GaussianNB()\n",
        "nbtrain173 = model173.fit(x_train, y_train)\n",
        "y_pred = nbtrain173.predict(x_test)\n",
        "# print(accuracy_score(y_test,y_pred))\n",
        "# print(precision_score(y_test,y_pred,average=\"micro\",pos_label=\"pos\"))\n",
        "print(classification_report(y_test,y_pred))"
      ],
      "execution_count": 139,
      "outputs": [
        {
          "output_type": "stream",
          "name": "stdout",
          "text": [
            "              precision    recall  f1-score   support\n",
            "\n",
            "           1       0.50      1.00      0.67         3\n",
            "           2       1.00      0.80      0.89        15\n",
            "\n",
            "    accuracy                           0.83        18\n",
            "   macro avg       0.75      0.90      0.78        18\n",
            "weighted avg       0.92      0.83      0.85        18\n",
            "\n"
          ]
        }
      ]
    },
    {
      "cell_type": "code",
      "metadata": {
        "colab": {
          "base_uri": "https://localhost:8080/"
        },
        "id": "nuEZ80blAFbH",
        "outputId": "264102f6-7e62-4ceb-d380-1bba2283f4cb"
      },
      "source": [
        "x183 = d183[fitur]\n",
        "y183 = d183['kelas']\n",
        "x_train, x_test, y_train, y_test = train_test_split(x183,y183, test_size = 0.2, random_state = 123)\n",
        "model183 = GaussianNB()\n",
        "nbtrain183 = model183.fit(x_train, y_train)\n",
        "y_pred = nbtrain183.predict(x_test)\n",
        "# print(accuracy_score(y_test,y_pred))\n",
        "# print(precision_score(y_test,y_pred,average=\"micro\",pos_label=\"pos\"))\n",
        "print(classification_report(y_test,y_pred))"
      ],
      "execution_count": 140,
      "outputs": [
        {
          "output_type": "stream",
          "name": "stdout",
          "text": [
            "              precision    recall  f1-score   support\n",
            "\n",
            "           1       1.00      0.71      0.83         7\n",
            "           2       0.85      1.00      0.92        11\n",
            "\n",
            "    accuracy                           0.89        18\n",
            "   macro avg       0.92      0.86      0.88        18\n",
            "weighted avg       0.91      0.89      0.88        18\n",
            "\n"
          ]
        }
      ]
    },
    {
      "cell_type": "markdown",
      "metadata": {
        "id": "fdasNhY7AWd3"
      },
      "source": [
        "##Model dengan faktor 4 Tahun Sebelumnya"
      ]
    },
    {
      "cell_type": "code",
      "metadata": {
        "colab": {
          "base_uri": "https://localhost:8080/"
        },
        "id": "DE7NxAg2AZbJ",
        "outputId": "cefbfbe0-e397-4c29-96d4-30e8cdbb608c"
      },
      "source": [
        "x164 = d164[fitur]\n",
        "y164 = d164['kelas']\n",
        "x_train, x_test, y_train, y_test = train_test_split(x164,y164, test_size = 0.2, random_state = 123)\n",
        "model164 = GaussianNB()\n",
        "nbtrain164 = model164.fit(x_train, y_train)\n",
        "y_pred = nbtrain164.predict(x_test)\n",
        "# print(accuracy_score(y_test,y_pred))\n",
        "# print(precision_score(y_test,y_pred,average=\"micro\",pos_label=\"pos\"))\n",
        "print(classification_report(y_test,y_pred))"
      ],
      "execution_count": 141,
      "outputs": [
        {
          "output_type": "stream",
          "name": "stdout",
          "text": [
            "              precision    recall  f1-score   support\n",
            "\n",
            "           0       0.00      0.00      0.00         1\n",
            "           1       0.33      0.50      0.40         2\n",
            "           2       0.90      0.90      0.90        21\n",
            "\n",
            "    accuracy                           0.83        24\n",
            "   macro avg       0.41      0.47      0.43        24\n",
            "weighted avg       0.82      0.83      0.83        24\n",
            "\n"
          ]
        },
        {
          "output_type": "stream",
          "name": "stderr",
          "text": [
            "/usr/local/lib/python3.7/dist-packages/sklearn/metrics/_classification.py:1272: UndefinedMetricWarning: Precision and F-score are ill-defined and being set to 0.0 in labels with no predicted samples. Use `zero_division` parameter to control this behavior.\n",
            "  _warn_prf(average, modifier, msg_start, len(result))\n"
          ]
        }
      ]
    },
    {
      "cell_type": "code",
      "metadata": {
        "colab": {
          "base_uri": "https://localhost:8080/"
        },
        "id": "3-pDkkKKBuiN",
        "outputId": "9f2e94c9-5139-4bd8-ad52-a74498d11e66"
      },
      "source": [
        "x174 = d174[fitur]\n",
        "y174 = d174['kelas']\n",
        "x_train, x_test, y_train, y_test = train_test_split(x174,y174, test_size = 0.2, random_state = 123)\n",
        "model174 = GaussianNB()\n",
        "nbtrain174 = model174.fit(x_train, y_train)\n",
        "y_pred = nbtrain174.predict(x_test)\n",
        "# print(accuracy_score(y_test,y_pred))\n",
        "# print(precision_score(y_test,y_pred,average=\"micro\",pos_label=\"pos\"))\n",
        "print(classification_report(y_test,y_pred))"
      ],
      "execution_count": 142,
      "outputs": [
        {
          "output_type": "stream",
          "name": "stdout",
          "text": [
            "              precision    recall  f1-score   support\n",
            "\n",
            "           0       0.00      0.00      0.00         1\n",
            "           1       0.50      1.00      0.67         1\n",
            "           2       0.95      0.95      0.95        22\n",
            "\n",
            "    accuracy                           0.92        24\n",
            "   macro avg       0.48      0.65      0.54        24\n",
            "weighted avg       0.90      0.92      0.90        24\n",
            "\n"
          ]
        },
        {
          "output_type": "stream",
          "name": "stderr",
          "text": [
            "/usr/local/lib/python3.7/dist-packages/sklearn/metrics/_classification.py:1272: UndefinedMetricWarning: Precision and F-score are ill-defined and being set to 0.0 in labels with no predicted samples. Use `zero_division` parameter to control this behavior.\n",
            "  _warn_prf(average, modifier, msg_start, len(result))\n"
          ]
        }
      ]
    },
    {
      "cell_type": "code",
      "metadata": {
        "colab": {
          "base_uri": "https://localhost:8080/"
        },
        "id": "s3s7Lbh4B0ho",
        "outputId": "58da0c88-171f-425b-ed32-b67d34efa2d6"
      },
      "source": [
        "x184 = d184[fitur]\n",
        "y184 = d184['kelas']\n",
        "x_train, x_test, y_train, y_test = train_test_split(x184,y184, test_size = 0.2, random_state = 123)\n",
        "model184 = GaussianNB()\n",
        "nbtrain184 = model184.fit(x_train, y_train)\n",
        "y_pred = nbtrain184.predict(x_test)\n",
        "# print(accuracy_score(y_test,y_pred))\n",
        "# print(precision_score(y_test,y_pred,average=\"micro\",pos_label=\"pos\"))\n",
        "print(classification_report(y_test,y_pred))"
      ],
      "execution_count": 143,
      "outputs": [
        {
          "output_type": "stream",
          "name": "stdout",
          "text": [
            "              precision    recall  f1-score   support\n",
            "\n",
            "           1       0.50      1.00      0.67         2\n",
            "           2       1.00      0.91      0.95        22\n",
            "\n",
            "    accuracy                           0.92        24\n",
            "   macro avg       0.75      0.95      0.81        24\n",
            "weighted avg       0.96      0.92      0.93        24\n",
            "\n"
          ]
        }
      ]
    },
    {
      "cell_type": "markdown",
      "metadata": {
        "id": "AIGL7ZPGB-Df"
      },
      "source": [
        "##Model dengan faktor 5 Tahun Sebelumnya"
      ]
    },
    {
      "cell_type": "code",
      "metadata": {
        "colab": {
          "base_uri": "https://localhost:8080/"
        },
        "id": "7Qs6ZaMvCKik",
        "outputId": "0138ee30-5f6a-4206-dbbb-8e635e832512"
      },
      "source": [
        "x175 = d175[fitur]\n",
        "y175 = d175['kelas']\n",
        "x_train, x_test, y_train, y_test = train_test_split(x175,y175, test_size = 0.2, random_state = 123)\n",
        "model175 = GaussianNB()\n",
        "nbtrain175 = model175.fit(x_train, y_train)\n",
        "y_pred = nbtrain175.predict(x_test)\n",
        "# print(accuracy_score(y_test,y_pred))\n",
        "# print(precision_score(y_test,y_pred,average=\"micro\",pos_label=\"pos\"))\n",
        "print(classification_report(y_test,y_pred))"
      ],
      "execution_count": 144,
      "outputs": [
        {
          "output_type": "stream",
          "name": "stdout",
          "text": [
            "              precision    recall  f1-score   support\n",
            "\n",
            "           1       0.50      1.00      0.67         2\n",
            "           2       1.00      0.93      0.96        28\n",
            "\n",
            "    accuracy                           0.93        30\n",
            "   macro avg       0.75      0.96      0.81        30\n",
            "weighted avg       0.97      0.93      0.94        30\n",
            "\n"
          ]
        }
      ]
    },
    {
      "cell_type": "code",
      "metadata": {
        "colab": {
          "base_uri": "https://localhost:8080/"
        },
        "id": "EOEmTLAmCCOj",
        "outputId": "ab0926a0-1be1-4920-9dde-f705c55fe8db"
      },
      "source": [
        "x185 = d185[fitur]\n",
        "y185 = d185['kelas']\n",
        "x_train, x_test, y_train, y_test = train_test_split(x185,y185, test_size = 0.2, random_state = 123)\n",
        "model185 = GaussianNB()\n",
        "nbtrain185 = model185.fit(x_train, y_train)\n",
        "y_pred = nbtrain185.predict(x_test)\n",
        "# print(accuracy_score(y_test,y_pred))\n",
        "# print(precision_score(y_test,y_pred,average=\"micro\",pos_label=\"pos\"))\n",
        "print(classification_report(y_test,y_pred))"
      ],
      "execution_count": 145,
      "outputs": [
        {
          "output_type": "stream",
          "name": "stdout",
          "text": [
            "              precision    recall  f1-score   support\n",
            "\n",
            "           0       0.00      0.00      0.00         3\n",
            "           1       0.50      1.00      0.67         4\n",
            "           2       1.00      0.96      0.98        23\n",
            "\n",
            "    accuracy                           0.87        30\n",
            "   macro avg       0.50      0.65      0.55        30\n",
            "weighted avg       0.83      0.87      0.84        30\n",
            "\n"
          ]
        },
        {
          "output_type": "stream",
          "name": "stderr",
          "text": [
            "/usr/local/lib/python3.7/dist-packages/sklearn/metrics/_classification.py:1272: UndefinedMetricWarning: Precision and F-score are ill-defined and being set to 0.0 in labels with no predicted samples. Use `zero_division` parameter to control this behavior.\n",
            "  _warn_prf(average, modifier, msg_start, len(result))\n"
          ]
        }
      ]
    },
    {
      "cell_type": "markdown",
      "metadata": {
        "id": "eYYSqXV8wSzT"
      },
      "source": [
        "# Model K-Nearest Neighbor"
      ]
    },
    {
      "cell_type": "markdown",
      "metadata": {
        "id": "5uZH3zPwwSzf"
      },
      "source": [
        "##Model dengan faktor 1 Tahun Sebelumnya"
      ]
    },
    {
      "cell_type": "code",
      "metadata": {
        "colab": {
          "base_uri": "https://localhost:8080/"
        },
        "id": "lXHfeBcYwSzf",
        "outputId": "484c2229-bb47-4f00-8b95-9aa8a29421ba"
      },
      "source": [
        "x13 = d2012[fitur]\n",
        "y13 = d2012['kelas']\n",
        "x_train, x_test, y_train, y_test = train_test_split(x13,y13, test_size = 0.2, random_state = 123)\n",
        "model13 = KNeighborsClassifier(n_neighbors=5)\n",
        "kntrain13 = model13.fit(x_train, y_train)\n",
        "y_pred = kntrain13.predict(x_test)\n",
        "# print(accuracy_score(y_test,y_pred))\n",
        "# print(precision_score(y_test,y_pred,average=\"micro\",pos_label=\"pos\"))\n",
        "print(classification_report(y_test,y_pred))\n",
        "# acc = []\n",
        "# Will take some time\n",
        "# for i in range(1,20):\n",
        "#     neigh = KNeighborsClassifier(n_neighbors = i).fit(x_train,y_train)\n",
        "#     y_pred = neigh.predict(x_test)\n",
        "#     acc.append(metrics.accuracy_score(y_test, y_pred))\n",
        "# print(\"Akurasi Maksimal:-\",max(acc),\"di K =\",acc.index(max(acc)))"
      ],
      "execution_count": 146,
      "outputs": [
        {
          "output_type": "stream",
          "name": "stdout",
          "text": [
            "              precision    recall  f1-score   support\n",
            "\n",
            "           0       0.00      0.00      0.00         1\n",
            "           2       0.83      1.00      0.91         5\n",
            "\n",
            "    accuracy                           0.83         6\n",
            "   macro avg       0.42      0.50      0.45         6\n",
            "weighted avg       0.69      0.83      0.76         6\n",
            "\n"
          ]
        },
        {
          "output_type": "stream",
          "name": "stderr",
          "text": [
            "/usr/local/lib/python3.7/dist-packages/sklearn/metrics/_classification.py:1272: UndefinedMetricWarning: Precision and F-score are ill-defined and being set to 0.0 in labels with no predicted samples. Use `zero_division` parameter to control this behavior.\n",
            "  _warn_prf(average, modifier, msg_start, len(result))\n"
          ]
        }
      ]
    },
    {
      "cell_type": "code",
      "metadata": {
        "colab": {
          "base_uri": "https://localhost:8080/"
        },
        "id": "qs608xSDwSzf",
        "outputId": "0d20c362-bee4-43cd-f4d4-e89932f229ce"
      },
      "source": [
        "x14 = d2013[fitur]\n",
        "y14 = d2013['kelas']\n",
        "x_train, x_test, y_train, y_test = train_test_split(x14,y14, test_size = 0.2, random_state = 123)\n",
        "model14 = KNeighborsClassifier(n_neighbors=5)\n",
        "kntrain14 = model14.fit(x_train, y_train)\n",
        "y_pred = kntrain14.predict(x_test)\n",
        "# print(accuracy_score(y_test,y_pred))\n",
        "# print(precision_score(y_test,y_pred,average=\"micro\",pos_label=\"pos\"))\n",
        "print(classification_report(y_test,y_pred))\n",
        "# acc = []\n",
        "# for i in range(1,20):\n",
        "#     neigh = KNeighborsClassifier(n_neighbors = i).fit(x_train,y_train)\n",
        "#     y_pred = neigh.predict(x_test)\n",
        "#     acc.append(metrics.accuracy_score(y_test, y_pred))\n",
        "# print(\"Akurasi Maksimal:-\",max(acc),\"di K =\",acc.index(max(acc)))"
      ],
      "execution_count": 147,
      "outputs": [
        {
          "output_type": "stream",
          "name": "stdout",
          "text": [
            "              precision    recall  f1-score   support\n",
            "\n",
            "           1       0.00      0.00      0.00         1\n",
            "           2       0.83      1.00      0.91         5\n",
            "\n",
            "    accuracy                           0.83         6\n",
            "   macro avg       0.42      0.50      0.45         6\n",
            "weighted avg       0.69      0.83      0.76         6\n",
            "\n"
          ]
        },
        {
          "output_type": "stream",
          "name": "stderr",
          "text": [
            "/usr/local/lib/python3.7/dist-packages/sklearn/metrics/_classification.py:1272: UndefinedMetricWarning: Precision and F-score are ill-defined and being set to 0.0 in labels with no predicted samples. Use `zero_division` parameter to control this behavior.\n",
            "  _warn_prf(average, modifier, msg_start, len(result))\n"
          ]
        }
      ]
    },
    {
      "cell_type": "code",
      "metadata": {
        "colab": {
          "base_uri": "https://localhost:8080/"
        },
        "id": "KLntqPYIwSzf",
        "outputId": "8490dc16-731e-4086-f34c-a00ad255dc9f"
      },
      "source": [
        "x15 = d2014[fitur]\n",
        "y15 = d2014['kelas']\n",
        "x_train, x_test, y_train, y_test = train_test_split(x15,y15, test_size = 0.2, random_state = 123)\n",
        "model15 = KNeighborsClassifier(n_neighbors=5)\n",
        "kntrain15 = model15.fit(x_train, y_train)\n",
        "y_pred = kntrain15.predict(x_test)\n",
        "# print(accuracy_score(y_test,y_pred))\n",
        "# print(precision_score(y_test,y_pred,average=\"micro\",pos_label=\"pos\"))\n",
        "print(classification_report(y_test,y_pred))\n",
        "# acc = []\n",
        "# for i in range(1,20):\n",
        "#     neigh = KNeighborsClassifier(n_neighbors = i).fit(x_train,y_train)\n",
        "#     y_pred = neigh.predict(x_test)\n",
        "#     acc.append(metrics.accuracy_score(y_test, y_pred))\n",
        "# print(\"Akurasi Maksimal:-\",max(acc),\"di K =\",acc.index(max(acc)))"
      ],
      "execution_count": 148,
      "outputs": [
        {
          "output_type": "stream",
          "name": "stdout",
          "text": [
            "              precision    recall  f1-score   support\n",
            "\n",
            "           2       1.00      1.00      1.00         6\n",
            "\n",
            "    accuracy                           1.00         6\n",
            "   macro avg       1.00      1.00      1.00         6\n",
            "weighted avg       1.00      1.00      1.00         6\n",
            "\n"
          ]
        }
      ]
    },
    {
      "cell_type": "code",
      "metadata": {
        "colab": {
          "base_uri": "https://localhost:8080/"
        },
        "id": "pBDit0L3wSzg",
        "outputId": "8743f494-89eb-44ef-9db6-c94226b42fac"
      },
      "source": [
        "x16 = d2015[fitur]\n",
        "y16 = d2015['kelas']\n",
        "x_train, x_test, y_train, y_test = train_test_split(x16,y16, test_size = 0.2, random_state = 123)\n",
        "model16 = KNeighborsClassifier(n_neighbors=1)\n",
        "kntrain16 = model16.fit(x_train, y_train)\n",
        "y_pred = kntrain16.predict(x_test)\n",
        "# print(accuracy_score(y_test,y_pred))\n",
        "# print(precision_score(y_test,y_pred,average=\"micro\",pos_label=\"pos\"))\n",
        "print(classification_report(y_test,y_pred))\n",
        "# acc = []\n",
        "# for i in range(1,20):\n",
        "#     neigh = KNeighborsClassifier(n_neighbors = i).fit(x_train,y_train)\n",
        "#     y_pred = neigh.predict(x_test)\n",
        "#     acc.append(metrics.accuracy_score(y_test, y_pred))\n",
        "# print(\"Akurasi Maksimal:-\",max(acc),\"di K =\",acc.index(max(acc)))"
      ],
      "execution_count": 149,
      "outputs": [
        {
          "output_type": "stream",
          "name": "stdout",
          "text": [
            "              precision    recall  f1-score   support\n",
            "\n",
            "           1       0.50      1.00      0.67         2\n",
            "           2       1.00      0.50      0.67         4\n",
            "\n",
            "    accuracy                           0.67         6\n",
            "   macro avg       0.75      0.75      0.67         6\n",
            "weighted avg       0.83      0.67      0.67         6\n",
            "\n"
          ]
        }
      ]
    },
    {
      "cell_type": "code",
      "metadata": {
        "colab": {
          "base_uri": "https://localhost:8080/"
        },
        "id": "OFecDppswSzg",
        "outputId": "b7b4eb3c-01ad-4b65-eb09-bef42e26f921"
      },
      "source": [
        "x17 = d2016[fitur]\n",
        "y17 = d2016['kelas']\n",
        "x_train, x_test, y_train, y_test = train_test_split(x17,y17, test_size = 0.2, random_state = 123)\n",
        "model17 = KNeighborsClassifier(n_neighbors=1)\n",
        "kntrain17 = model17.fit(x_train, y_train)\n",
        "y_pred = kntrain17.predict(x_test)\n",
        "# print(accuracy_score(y_test,y_pred))\n",
        "# print(precision_score(y_test,y_pred,average=\"micro\",pos_label=\"pos\"))\n",
        "print(classification_report(y_test,y_pred))\n"
      ],
      "execution_count": 150,
      "outputs": [
        {
          "output_type": "stream",
          "name": "stdout",
          "text": [
            "              precision    recall  f1-score   support\n",
            "\n",
            "           2       1.00      1.00      1.00         6\n",
            "\n",
            "    accuracy                           1.00         6\n",
            "   macro avg       1.00      1.00      1.00         6\n",
            "weighted avg       1.00      1.00      1.00         6\n",
            "\n"
          ]
        }
      ]
    },
    {
      "cell_type": "code",
      "metadata": {
        "colab": {
          "base_uri": "https://localhost:8080/"
        },
        "id": "V_gaMIbNwSzg",
        "outputId": "9bb3529c-d268-402c-a414-14aa938ec359"
      },
      "source": [
        "x18 = d2017[fitur]\n",
        "y18 = d2017['kelas']\n",
        "x_train, x_test, y_train, y_test = train_test_split(x17,y17, test_size = 0.2, random_state = 123)\n",
        "model18 = KNeighborsClassifier(n_neighbors=1)\n",
        "kntrain18 = model18.fit(x_train, y_train)\n",
        "y_pred = kntrain18.predict(x_test)\n",
        "# print(accuracy_score(y_test,y_pred))\n",
        "# print(precision_score(y_test,y_pred,average=\"micro\",pos_label=\"pos\"))\n",
        "print(classification_report(y_test,y_pred))"
      ],
      "execution_count": 151,
      "outputs": [
        {
          "output_type": "stream",
          "name": "stdout",
          "text": [
            "              precision    recall  f1-score   support\n",
            "\n",
            "           2       1.00      1.00      1.00         6\n",
            "\n",
            "    accuracy                           1.00         6\n",
            "   macro avg       1.00      1.00      1.00         6\n",
            "weighted avg       1.00      1.00      1.00         6\n",
            "\n"
          ]
        }
      ]
    },
    {
      "cell_type": "markdown",
      "metadata": {
        "id": "V9UZ-DUYwSzg"
      },
      "source": [
        "##Model dengan faktor 2 Tahun Sebelumnya"
      ]
    },
    {
      "cell_type": "code",
      "metadata": {
        "colab": {
          "base_uri": "https://localhost:8080/"
        },
        "id": "GHAg7Yq5wSzg",
        "outputId": "015c264f-b2c5-4fa8-e856-108ddde9046f"
      },
      "source": [
        "x142 = d142[fitur]\n",
        "y142 = d142['kelas']\n",
        "x_train, x_test, y_train, y_test = train_test_split(x142,y142, test_size = 0.2, random_state = 123)\n",
        "model142 = KNeighborsClassifier(n_neighbors=4)\n",
        "kntrain142 = model142.fit(x_train, y_train)\n",
        "y_pred = kntrain142.predict(x_test)\n",
        "# print(accuracy_score(y_test,y_pred))\n",
        "# print(precision_score(y_test,y_pred,average=\"micro\",pos_label=\"pos\"))\n",
        "print(classification_report(y_test,y_pred))\n",
        "# acc = []\n",
        "# for i in range(1,20):\n",
        "#     neigh = KNeighborsClassifier(n_neighbors = i).fit(x_train,y_train)\n",
        "#     y_pred = neigh.predict(x_test)\n",
        "#     acc.append(metrics.accuracy_score(y_test, y_pred))\n",
        "# print(\"Akurasi Maksimal:-\",max(acc),\"di K =\",acc.index(max(acc)))"
      ],
      "execution_count": 152,
      "outputs": [
        {
          "output_type": "stream",
          "name": "stdout",
          "text": [
            "              precision    recall  f1-score   support\n",
            "\n",
            "           1       0.00      0.00      0.00         2\n",
            "           2       0.83      1.00      0.91        10\n",
            "\n",
            "    accuracy                           0.83        12\n",
            "   macro avg       0.42      0.50      0.45        12\n",
            "weighted avg       0.69      0.83      0.76        12\n",
            "\n"
          ]
        },
        {
          "output_type": "stream",
          "name": "stderr",
          "text": [
            "/usr/local/lib/python3.7/dist-packages/sklearn/metrics/_classification.py:1272: UndefinedMetricWarning: Precision and F-score are ill-defined and being set to 0.0 in labels with no predicted samples. Use `zero_division` parameter to control this behavior.\n",
            "  _warn_prf(average, modifier, msg_start, len(result))\n"
          ]
        }
      ]
    },
    {
      "cell_type": "code",
      "metadata": {
        "colab": {
          "base_uri": "https://localhost:8080/"
        },
        "id": "BUpVnuKtwSzh",
        "outputId": "6e3cd6ce-2926-4643-d9a5-cbe37d28f5fc"
      },
      "source": [
        "x152 = d152[fitur]\n",
        "y152 = d152['kelas']\n",
        "x_train, x_test, y_train, y_test = train_test_split(x152,y152, test_size = 0.2, random_state = 123)\n",
        "model152 = KNeighborsClassifier(n_neighbors=4)\n",
        "kntrain152 = model152.fit(x_train, y_train)\n",
        "y_pred = kntrain152.predict(x_test)\n",
        "# print(accuracy_score(y_test,y_pred))\n",
        "# print(precision_score(y_test,y_pred,average=\"micro\",pos_label=\"pos\"))\n",
        "print(classification_report(y_test,y_pred))\n",
        "# acc = []\n",
        "# for i in range(1,20):\n",
        "#     neigh = KNeighborsClassifier(n_neighbors = i).fit(x_train,y_train)\n",
        "#     y_pred = neigh.predict(x_test)\n",
        "#     acc.append(metrics.accuracy_score(y_test, y_pred))\n",
        "# print(\"Akurasi Maksimal:-\",max(acc),\"di K =\",acc.index(max(acc)))"
      ],
      "execution_count": 153,
      "outputs": [
        {
          "output_type": "stream",
          "name": "stdout",
          "text": [
            "              precision    recall  f1-score   support\n",
            "\n",
            "           1       0.00      0.00      0.00         2\n",
            "           2       0.83      1.00      0.91        10\n",
            "\n",
            "    accuracy                           0.83        12\n",
            "   macro avg       0.42      0.50      0.45        12\n",
            "weighted avg       0.69      0.83      0.76        12\n",
            "\n"
          ]
        },
        {
          "output_type": "stream",
          "name": "stderr",
          "text": [
            "/usr/local/lib/python3.7/dist-packages/sklearn/metrics/_classification.py:1272: UndefinedMetricWarning: Precision and F-score are ill-defined and being set to 0.0 in labels with no predicted samples. Use `zero_division` parameter to control this behavior.\n",
            "  _warn_prf(average, modifier, msg_start, len(result))\n"
          ]
        }
      ]
    },
    {
      "cell_type": "code",
      "metadata": {
        "colab": {
          "base_uri": "https://localhost:8080/"
        },
        "id": "kqaC0FlkwSzh",
        "outputId": "66d45944-687c-440d-ff11-2117e8aea233"
      },
      "source": [
        "x162 = d162[fitur]\n",
        "y162 = d162['kelas']\n",
        "x_train, x_test, y_train, y_test = train_test_split(x162,y162, test_size = 0.2, random_state = 123)\n",
        "model162 = KNeighborsClassifier(n_neighbors=3)\n",
        "kntrain162 = model162.fit(x_train, y_train)\n",
        "y_pred = kntrain162.predict(x_test)\n",
        "# print(accuracy_score(y_test,y_pred))\n",
        "# print(precision_score(y_test,y_pred,average=\"micro\",pos_label=\"pos\"))\n",
        "print(classification_report(y_test,y_pred))\n",
        "# acc = []\n",
        "# for i in range(1,20):\n",
        "#     neigh = KNeighborsClassifier(n_neighbors = i).fit(x_train,y_train)\n",
        "#     y_pred = neigh.predict(x_test)\n",
        "#     acc.append(metrics.accuracy_score(y_test, y_pred))\n",
        "# print(\"Akurasi Maksimal:-\",max(acc),\"di K =\",acc.index(max(acc)))"
      ],
      "execution_count": 154,
      "outputs": [
        {
          "output_type": "stream",
          "name": "stdout",
          "text": [
            "              precision    recall  f1-score   support\n",
            "\n",
            "           1       1.00      0.50      0.67         4\n",
            "           2       0.80      1.00      0.89         8\n",
            "\n",
            "    accuracy                           0.83        12\n",
            "   macro avg       0.90      0.75      0.78        12\n",
            "weighted avg       0.87      0.83      0.81        12\n",
            "\n"
          ]
        }
      ]
    },
    {
      "cell_type": "code",
      "metadata": {
        "colab": {
          "base_uri": "https://localhost:8080/"
        },
        "id": "SNZc0-CdwSzh",
        "outputId": "262ba4a6-af6d-4e37-d1ae-9bf666927396"
      },
      "source": [
        "x172 = d172[fitur]\n",
        "y172 = d172['kelas']\n",
        "x_train, x_test, y_train, y_test = train_test_split(x172,y172, test_size = 0.2, random_state = 123)\n",
        "model172 = KNeighborsClassifier(n_neighbors=6)\n",
        "kntrain172 = model172.fit(x_train, y_train)\n",
        "y_pred = kntrain172.predict(x_test)\n",
        "# print(accuracy_score(y_test,y_pred))\n",
        "# print(precision_score(y_test,y_pred,average=\"micro\",pos_label=\"pos\"))\n",
        "print(classification_report(y_test,y_pred))\n",
        "# acc = []\n",
        "# for i in range(1,20):\n",
        "#     neigh = KNeighborsClassifier(n_neighbors = i).fit(x_train,y_train)\n",
        "#     y_pred = neigh.predict(x_test)\n",
        "#     acc.append(metrics.accuracy_score(y_test, y_pred))\n",
        "# print(\"Akurasi Maksimal:-\",max(acc),\"di K =\",acc.index(max(acc)))"
      ],
      "execution_count": 155,
      "outputs": [
        {
          "output_type": "stream",
          "name": "stdout",
          "text": [
            "              precision    recall  f1-score   support\n",
            "\n",
            "           1       1.00      0.33      0.50         6\n",
            "           2       0.60      1.00      0.75         6\n",
            "\n",
            "    accuracy                           0.67        12\n",
            "   macro avg       0.80      0.67      0.62        12\n",
            "weighted avg       0.80      0.67      0.62        12\n",
            "\n"
          ]
        }
      ]
    },
    {
      "cell_type": "code",
      "metadata": {
        "colab": {
          "base_uri": "https://localhost:8080/"
        },
        "id": "6mRVOjR-wSzh",
        "outputId": "b0cb1b02-8614-4d64-d583-c1774015235d"
      },
      "source": [
        "x182 = d182[fitur]\n",
        "y182 = d182['kelas']\n",
        "x_train, x_test, y_train, y_test = train_test_split(x182,y182, test_size = 0.2, random_state = 123)\n",
        "model182 = KNeighborsClassifier(n_neighbors=3)\n",
        "kntrain182 = model182.fit(x_train, y_train)\n",
        "y_pred = kntrain182.predict(x_test)\n",
        "# print(accuracy_score(y_test,y_pred))\n",
        "# print(precision_score(y_test,y_pred,average=\"micro\",pos_label=\"pos\"))\n",
        "print(classification_report(y_test,y_pred))\n",
        "# acc = []\n",
        "# for i in range(1,20):\n",
        "#     neigh = KNeighborsClassifier(n_neighbors = i).fit(x_train,y_train)\n",
        "#     y_pred = neigh.predict(x_test)\n",
        "#     acc.append(metrics.accuracy_score(y_test, y_pred))\n",
        "# print(\"Akurasi Maksimal:-\",max(acc),\"di K =\",acc.index(max(acc)))"
      ],
      "execution_count": 156,
      "outputs": [
        {
          "output_type": "stream",
          "name": "stdout",
          "text": [
            "              precision    recall  f1-score   support\n",
            "\n",
            "           0       0.00      0.00      0.00         1\n",
            "           1       1.00      0.50      0.67         4\n",
            "           2       0.70      1.00      0.82         7\n",
            "\n",
            "    accuracy                           0.75        12\n",
            "   macro avg       0.57      0.50      0.50        12\n",
            "weighted avg       0.74      0.75      0.70        12\n",
            "\n"
          ]
        },
        {
          "output_type": "stream",
          "name": "stderr",
          "text": [
            "/usr/local/lib/python3.7/dist-packages/sklearn/metrics/_classification.py:1272: UndefinedMetricWarning: Precision and F-score are ill-defined and being set to 0.0 in labels with no predicted samples. Use `zero_division` parameter to control this behavior.\n",
            "  _warn_prf(average, modifier, msg_start, len(result))\n"
          ]
        }
      ]
    },
    {
      "cell_type": "markdown",
      "metadata": {
        "id": "Aog94nWmwSzh"
      },
      "source": [
        "##Model dengan faktor 3 Tahun Sebelumnya"
      ]
    },
    {
      "cell_type": "code",
      "metadata": {
        "colab": {
          "base_uri": "https://localhost:8080/"
        },
        "id": "j3VZsAdIwSzh",
        "outputId": "58d69d02-35f3-42f6-8335-086657350248"
      },
      "source": [
        "x153 = d153[fitur]\n",
        "y153 = d153['kelas']\n",
        "x_train, x_test, y_train, y_test = train_test_split(x153,y153, test_size = 0.2, random_state = 123)\n",
        "model153 = KNeighborsClassifier(n_neighbors=2)\n",
        "kntrain153 = model153.fit(x_train, y_train)\n",
        "y_pred = kntrain153.predict(x_test)\n",
        "# print(accuracy_score(y_test,y_pred))\n",
        "# print(precision_score(y_test,y_pred,average=\"micro\",pos_label=\"pos\"))\n",
        "print(classification_report(y_test,y_pred))\n",
        "# acc = []\n",
        "# for i in range(1,20):\n",
        "#     neigh = KNeighborsClassifier(n_neighbors = i).fit(x_train,y_train)\n",
        "#     y_pred = neigh.predict(x_test)\n",
        "#     acc.append(metrics.accuracy_score(y_test, y_pred))\n",
        "# print(\"Akurasi Maksimal:-\",max(acc),\"di K =\",acc.index(max(acc)))"
      ],
      "execution_count": 157,
      "outputs": [
        {
          "output_type": "stream",
          "name": "stdout",
          "text": [
            "              precision    recall  f1-score   support\n",
            "\n",
            "           0       0.00      0.00      0.00         1\n",
            "           1       0.25      1.00      0.40         1\n",
            "           2       0.92      0.75      0.83        16\n",
            "\n",
            "    accuracy                           0.72        18\n",
            "   macro avg       0.39      0.58      0.41        18\n",
            "weighted avg       0.83      0.72      0.76        18\n",
            "\n"
          ]
        }
      ]
    },
    {
      "cell_type": "code",
      "metadata": {
        "colab": {
          "base_uri": "https://localhost:8080/"
        },
        "id": "OrPA9wNRwSzi",
        "outputId": "36e6ec6a-dcc4-45de-9c37-5d3c3548ac8f"
      },
      "source": [
        "x163 = d163[fitur]\n",
        "y163 = d163['kelas']\n",
        "x_train, x_test, y_train, y_test = train_test_split(x163,y163, test_size = 0.2, random_state = 123)\n",
        "model163 = KNeighborsClassifier(n_neighbors=3)\n",
        "kntrain163 = model163.fit(x_train, y_train)\n",
        "y_pred = kntrain163.predict(x_test)\n",
        "# print(accuracy_score(y_test,y_pred))\n",
        "# print(precision_score(y_test,y_pred,average=\"micro\",pos_label=\"pos\"))\n",
        "print(classification_report(y_test,y_pred))\n",
        "# acc = []\n",
        "# for i in range(1,20):\n",
        "#     neigh = KNeighborsClassifier(n_neighbors = i).fit(x_train,y_train)\n",
        "#     y_pred = neigh.predict(x_test)\n",
        "#     acc.append(metrics.accuracy_score(y_test, y_pred))\n",
        "# print(\"Akurasi Maksimal:-\",max(acc),\"di K =\",acc.index(max(acc)))"
      ],
      "execution_count": 158,
      "outputs": [
        {
          "output_type": "stream",
          "name": "stdout",
          "text": [
            "              precision    recall  f1-score   support\n",
            "\n",
            "           1       0.75      0.60      0.67         5\n",
            "           2       0.86      0.92      0.89        13\n",
            "\n",
            "    accuracy                           0.83        18\n",
            "   macro avg       0.80      0.76      0.78        18\n",
            "weighted avg       0.83      0.83      0.83        18\n",
            "\n"
          ]
        }
      ]
    },
    {
      "cell_type": "code",
      "metadata": {
        "colab": {
          "base_uri": "https://localhost:8080/"
        },
        "id": "INEJHqAUwSzi",
        "outputId": "5daca03e-e3ae-4f0b-a657-23ca8ce3e510"
      },
      "source": [
        "x173 = d173[fitur]\n",
        "y173 = d173['kelas']\n",
        "x_train, x_test, y_train, y_test = train_test_split(x173,y173, test_size = 0.2, random_state = 123)\n",
        "model173 = KNeighborsClassifier(n_neighbors=5)\n",
        "kntrain173 = model173.fit(x_train, y_train)\n",
        "y_pred = kntrain173.predict(x_test)\n",
        "# print(accuracy_score(y_test,y_pred))\n",
        "# print(precision_score(y_test,y_pred,average=\"micro\",pos_label=\"pos\"))\n",
        "print(classification_report(y_test,y_pred))\n",
        "# acc = []\n",
        "# for i in range(1,20):\n",
        "#     neigh = KNeighborsClassifier(n_neighbors = i).fit(x_train,y_train)\n",
        "#     y_pred = neigh.predict(x_test)\n",
        "#     acc.append(metrics.accuracy_score(y_test, y_pred))\n",
        "# print(\"Akurasi Maksimal:-\",max(acc),\"di K =\",acc.index(max(acc)))"
      ],
      "execution_count": 159,
      "outputs": [
        {
          "output_type": "stream",
          "name": "stdout",
          "text": [
            "              precision    recall  f1-score   support\n",
            "\n",
            "           1       1.00      0.33      0.50         3\n",
            "           2       0.88      1.00      0.94        15\n",
            "\n",
            "    accuracy                           0.89        18\n",
            "   macro avg       0.94      0.67      0.72        18\n",
            "weighted avg       0.90      0.89      0.86        18\n",
            "\n"
          ]
        }
      ]
    },
    {
      "cell_type": "code",
      "metadata": {
        "colab": {
          "base_uri": "https://localhost:8080/"
        },
        "id": "y7G6atI6wSzi",
        "outputId": "f1b04baa-d3c2-48cf-a9ba-871f9900172b"
      },
      "source": [
        "x183 = d183[fitur]\n",
        "y183 = d183['kelas']\n",
        "x_train, x_test, y_train, y_test = train_test_split(x183,y183, test_size = 0.2, random_state = 123)\n",
        "model183 = KNeighborsClassifier(n_neighbors=11)\n",
        "kntrain183 = model183.fit(x_train, y_train)\n",
        "y_pred = kntrain183.predict(x_test)\n",
        "# print(accuracy_score(y_test,y_pred))\n",
        "# print(precision_score(y_test,y_pred,average=\"micro\",pos_label=\"pos\"))\n",
        "print(classification_report(y_test,y_pred))\n",
        "# acc = []\n",
        "# for i in range(1,20):\n",
        "#     neigh = KNeighborsClassifier(n_neighbors = i).fit(x_train,y_train)\n",
        "#     y_pred = neigh.predict(x_test)\n",
        "#     acc.append(metrics.accuracy_score(y_test, y_pred))\n",
        "# print(\"Akurasi Maksimal:-\",max(acc),\"di K =\",acc.index(max(acc)))"
      ],
      "execution_count": 160,
      "outputs": [
        {
          "output_type": "stream",
          "name": "stdout",
          "text": [
            "              precision    recall  f1-score   support\n",
            "\n",
            "           1       0.75      0.43      0.55         7\n",
            "           2       0.71      0.91      0.80        11\n",
            "\n",
            "    accuracy                           0.72        18\n",
            "   macro avg       0.73      0.67      0.67        18\n",
            "weighted avg       0.73      0.72      0.70        18\n",
            "\n"
          ]
        }
      ]
    },
    {
      "cell_type": "markdown",
      "metadata": {
        "id": "jsZv8TvHwSzi"
      },
      "source": [
        "##Model dengan faktor 4 Tahun Sebelumnya"
      ]
    },
    {
      "cell_type": "code",
      "metadata": {
        "colab": {
          "base_uri": "https://localhost:8080/"
        },
        "id": "xwsx98prwSzi",
        "outputId": "073e274d-ee65-4e99-f87c-729b68652253"
      },
      "source": [
        "x164 = d164[fitur]\n",
        "y164 = d164['kelas']\n",
        "x_train, x_test, y_train, y_test = train_test_split(x164,y164, test_size = 0.2, random_state = 123)\n",
        "model164 = KNeighborsClassifier(n_neighbors=2)\n",
        "kntrain164 = model164.fit(x_train, y_train)\n",
        "y_pred = kntrain164.predict(x_test)\n",
        "# print(accuracy_score(y_test,y_pred))\n",
        "# print(precision_score(y_test,y_pred,average=\"micro\",pos_label=\"pos\"))\n",
        "print(classification_report(y_test,y_pred))\n",
        "#Jika N = 3 Akurasi benar lebih besar, tetapi presisi lebih kecil\n",
        "# acc = []\n",
        "# for i in range(1,20):\n",
        "#     neigh = KNeighborsClassifier(n_neighbors = i).fit(x_train,y_train)\n",
        "#     y_pred = neigh.predict(x_test)\n",
        "#     acc.append(metrics.accuracy_score(y_test, y_pred))\n",
        "# print(\"Akurasi Maksimal:-\",max(acc),\"di K =\",acc.index(max(acc)))"
      ],
      "execution_count": 161,
      "outputs": [
        {
          "output_type": "stream",
          "name": "stdout",
          "text": [
            "              precision    recall  f1-score   support\n",
            "\n",
            "           0       0.00      0.00      0.00         1\n",
            "           1       0.25      0.50      0.33         2\n",
            "           2       0.90      0.86      0.88        21\n",
            "\n",
            "    accuracy                           0.79        24\n",
            "   macro avg       0.38      0.45      0.40        24\n",
            "weighted avg       0.81      0.79      0.80        24\n",
            "\n"
          ]
        },
        {
          "output_type": "stream",
          "name": "stderr",
          "text": [
            "/usr/local/lib/python3.7/dist-packages/sklearn/metrics/_classification.py:1272: UndefinedMetricWarning: Precision and F-score are ill-defined and being set to 0.0 in labels with no predicted samples. Use `zero_division` parameter to control this behavior.\n",
            "  _warn_prf(average, modifier, msg_start, len(result))\n"
          ]
        }
      ]
    },
    {
      "cell_type": "code",
      "metadata": {
        "colab": {
          "base_uri": "https://localhost:8080/"
        },
        "id": "AbNgaNmmwSzi",
        "outputId": "1cf423f5-c87f-4a30-9080-243862eb897f"
      },
      "source": [
        "x174 = d174[fitur]\n",
        "y174 = d174['kelas']\n",
        "x_train, x_test, y_train, y_test = train_test_split(x174,y174, test_size = 0.2, random_state = 123)\n",
        "model174 = KNeighborsClassifier(n_neighbors=5)\n",
        "kntrain174 = model174.fit(x_train, y_train)\n",
        "y_pred = kntrain174.predict(x_test)\n",
        "# print(accuracy_score(y_test,y_pred))\n",
        "# print(precision_score(y_test,y_pred,average=\"micro\",pos_label=\"pos\"))\n",
        "print(classification_report(y_test,y_pred))\n",
        "# acc = []\n",
        "# for i in range(1,20):\n",
        "#     neigh = KNeighborsClassifier(n_neighbors = i).fit(x_train,y_train)\n",
        "#     y_pred = neigh.predict(x_test)\n",
        "#     acc.append(metrics.accuracy_score(y_test, y_pred))\n",
        "# print(\"Akurasi Maksimal:-\",max(acc),\"di K =\",acc.index(max(acc)))\n"
      ],
      "execution_count": 162,
      "outputs": [
        {
          "output_type": "stream",
          "name": "stdout",
          "text": [
            "              precision    recall  f1-score   support\n",
            "\n",
            "           0       0.00      0.00      0.00         1\n",
            "           1       0.00      0.00      0.00         1\n",
            "           2       0.92      1.00      0.96        22\n",
            "\n",
            "    accuracy                           0.92        24\n",
            "   macro avg       0.31      0.33      0.32        24\n",
            "weighted avg       0.84      0.92      0.88        24\n",
            "\n"
          ]
        },
        {
          "output_type": "stream",
          "name": "stderr",
          "text": [
            "/usr/local/lib/python3.7/dist-packages/sklearn/metrics/_classification.py:1272: UndefinedMetricWarning: Precision and F-score are ill-defined and being set to 0.0 in labels with no predicted samples. Use `zero_division` parameter to control this behavior.\n",
            "  _warn_prf(average, modifier, msg_start, len(result))\n"
          ]
        }
      ]
    },
    {
      "cell_type": "code",
      "metadata": {
        "colab": {
          "base_uri": "https://localhost:8080/"
        },
        "id": "_X5YL82BwSzj",
        "outputId": "314785ed-6c76-4da4-bc96-fcdccd4103eb"
      },
      "source": [
        "x184 = d184[fitur]\n",
        "y184 = d184['kelas']\n",
        "x_train, x_test, y_train, y_test = train_test_split(x184,y184, test_size = 0.2, random_state = 123)\n",
        "model184 = KNeighborsClassifier(n_neighbors=10)\n",
        "kntrain184 = model184.fit(x_train, y_train)\n",
        "y_pred = kntrain184.predict(x_test)\n",
        "# print(accuracy_score(y_test,y_pred))\n",
        "# print(precision_score(y_test,y_pred,average=\"micro\",pos_label=\"pos\"))\n",
        "print(classification_report(y_test,y_pred))\n",
        "# acc = []\n",
        "# for i in range(1,20):\n",
        "#     neigh = KNeighborsClassifier(n_neighbors = i).fit(x_train,y_train)\n",
        "#     y_pred = neigh.predict(x_test)\n",
        "#     acc.append(metrics.accuracy_score(y_test, y_pred))\n",
        "# print(\"Akurasi Maksimal:-\",max(acc),\"di K =\",acc.index(max(acc)))"
      ],
      "execution_count": 163,
      "outputs": [
        {
          "output_type": "stream",
          "name": "stdout",
          "text": [
            "              precision    recall  f1-score   support\n",
            "\n",
            "           1       0.50      0.50      0.50         2\n",
            "           2       0.95      0.95      0.95        22\n",
            "\n",
            "    accuracy                           0.92        24\n",
            "   macro avg       0.73      0.73      0.73        24\n",
            "weighted avg       0.92      0.92      0.92        24\n",
            "\n"
          ]
        }
      ]
    },
    {
      "cell_type": "markdown",
      "metadata": {
        "id": "6ZI8dM_0wSzj"
      },
      "source": [
        "##Model dengan faktor 5 Tahun Sebelumnya"
      ]
    },
    {
      "cell_type": "code",
      "metadata": {
        "colab": {
          "base_uri": "https://localhost:8080/"
        },
        "id": "A9cCEgcVwSzj",
        "outputId": "b5c9b9b8-81db-403e-cdf9-fed554e9e66e"
      },
      "source": [
        "x175 = d175[fitur]\n",
        "y175 = d175['kelas']\n",
        "x_train, x_test, y_train, y_test = train_test_split(x175,y175, test_size = 0.2, random_state = 123)\n",
        "model175 = KNeighborsClassifier(n_neighbors=5)\n",
        "kntrain175 = model175.fit(x_train, y_train)\n",
        "y_pred = kntrain175.predict(x_test)\n",
        "# print(accuracy_score(y_test,y_pred))\n",
        "# print(precision_score(y_test,y_pred,average=\"micro\",pos_label=\"pos\"))\n",
        "print(classification_report(y_test,y_pred))\n",
        "# acc = []\n",
        "# for i in range(1,20):\n",
        "#     neigh = KNeighborsClassifier(n_neighbors = i).fit(x_train,y_train)\n",
        "#     y_pred = neigh.predict(x_test)\n",
        "#     acc.append(metrics.accuracy_score(y_test, y_pred))\n",
        "# print(\"Akurasi Maksimal:-\",max(acc),\"di K =\",acc.index(max(acc)))"
      ],
      "execution_count": 164,
      "outputs": [
        {
          "output_type": "stream",
          "name": "stdout",
          "text": [
            "              precision    recall  f1-score   support\n",
            "\n",
            "           1       0.00      0.00      0.00         2\n",
            "           2       0.93      1.00      0.97        28\n",
            "\n",
            "    accuracy                           0.93        30\n",
            "   macro avg       0.47      0.50      0.48        30\n",
            "weighted avg       0.87      0.93      0.90        30\n",
            "\n"
          ]
        },
        {
          "output_type": "stream",
          "name": "stderr",
          "text": [
            "/usr/local/lib/python3.7/dist-packages/sklearn/metrics/_classification.py:1272: UndefinedMetricWarning: Precision and F-score are ill-defined and being set to 0.0 in labels with no predicted samples. Use `zero_division` parameter to control this behavior.\n",
            "  _warn_prf(average, modifier, msg_start, len(result))\n"
          ]
        }
      ]
    },
    {
      "cell_type": "code",
      "metadata": {
        "colab": {
          "base_uri": "https://localhost:8080/"
        },
        "id": "L1xkoqdkwSzj",
        "outputId": "c905b412-4bc7-4ab5-ace7-53d7f877e575"
      },
      "source": [
        "x185 = d185[fitur]\n",
        "y185 = d185['kelas']\n",
        "x_train, x_test, y_train, y_test = train_test_split(x185,y185, test_size = 0.2, random_state = 123)\n",
        "model185 = KNeighborsClassifier(n_neighbors=7)\n",
        "kntrain185 = model185.fit(x_train, y_train)\n",
        "y_pred = kntrain185.predict(x_test)\n",
        "# print(accuracy_score(y_test,y_pred))\n",
        "# print(precision_score(y_test,y_pred,average=\"micro\",pos_label=\"pos\"))\n",
        "print(classification_report(y_test,y_pred))\n",
        "# acc = []\n",
        "# for i in range(1,20):\n",
        "#     neigh = KNeighborsClassifier(n_neighbors = i).fit(x_train,y_train)\n",
        "#     y_pred = neigh.predict(x_test)\n",
        "#     acc.append(metrics.accuracy_score(y_test, y_pred))\n",
        "# print(\"Akurasi Maksimal:-\",max(acc),\"di K =\",acc.index(max(acc)))"
      ],
      "execution_count": 165,
      "outputs": [
        {
          "output_type": "stream",
          "name": "stdout",
          "text": [
            "              precision    recall  f1-score   support\n",
            "\n",
            "           0       0.00      0.00      0.00         3\n",
            "           1       1.00      0.25      0.40         4\n",
            "           2       0.79      1.00      0.88        23\n",
            "\n",
            "    accuracy                           0.80        30\n",
            "   macro avg       0.60      0.42      0.43        30\n",
            "weighted avg       0.74      0.80      0.73        30\n",
            "\n"
          ]
        },
        {
          "output_type": "stream",
          "name": "stderr",
          "text": [
            "/usr/local/lib/python3.7/dist-packages/sklearn/metrics/_classification.py:1272: UndefinedMetricWarning: Precision and F-score are ill-defined and being set to 0.0 in labels with no predicted samples. Use `zero_division` parameter to control this behavior.\n",
            "  _warn_prf(average, modifier, msg_start, len(result))\n"
          ]
        }
      ]
    }
  ]
}