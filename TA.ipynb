{
  "nbformat": 4,
  "nbformat_minor": 0,
  "metadata": {
    "kernelspec": {
      "display_name": "Python 3",
      "language": "python",
      "name": "python3"
    },
    "language_info": {
      "codemirror_mode": {
        "name": "ipython",
        "version": 3
      },
      "file_extension": ".py",
      "mimetype": "text/x-python",
      "name": "python",
      "nbconvert_exporter": "python",
      "pygments_lexer": "ipython3",
      "version": "3.8.5"
    },
    "colab": {
      "name": "TA.ipynb",
      "provenance": [],
      "collapsed_sections": [
        "NZ-jQWi3cnl6",
        "yPmzSGnXcnmR",
        "al0OxhAccnmW"
      ]
    }
  },
  "cells": [
    {
      "cell_type": "code",
      "metadata": {
        "id": "OtceVCUacnlx"
      },
      "source": [
        "import pandas as pd\n",
        "import numpy as np\n",
        "from sklearn.model_selection import train_test_split\n",
        "from sklearn.metrics import classification_report\n",
        "from sklearn.model_selection import cross_val_score\n",
        "from sklearn import metrics\n",
        "from sklearn.naive_bayes import GaussianNB"
      ],
      "execution_count": 4,
      "outputs": []
    },
    {
      "cell_type": "code",
      "metadata": {
        "colab": {
          "base_uri": "https://localhost:8080/",
          "height": 206
        },
        "id": "Y0b_uwYBcnl3",
        "outputId": "efbf9ba0-8a29-4301-fcf1-a4e33417d8b2"
      },
      "source": [
        "data = pd.read_excel('dataset.xlsx')\n",
        "dbd = pd.DataFrame(data, columns= ['Jumlah Kasus','Curah hujan','Kelembapan','Temperatur','Label Kelas'])\n",
        "dbd.head()\n",
        "# dbd.corr()"
      ],
      "execution_count": 5,
      "outputs": [
        {
          "output_type": "execute_result",
          "data": {
            "text/html": [
              "<div>\n",
              "<style scoped>\n",
              "    .dataframe tbody tr th:only-of-type {\n",
              "        vertical-align: middle;\n",
              "    }\n",
              "\n",
              "    .dataframe tbody tr th {\n",
              "        vertical-align: top;\n",
              "    }\n",
              "\n",
              "    .dataframe thead th {\n",
              "        text-align: right;\n",
              "    }\n",
              "</style>\n",
              "<table border=\"1\" class=\"dataframe\">\n",
              "  <thead>\n",
              "    <tr style=\"text-align: right;\">\n",
              "      <th></th>\n",
              "      <th>Jumlah Kasus</th>\n",
              "      <th>Curah hujan</th>\n",
              "      <th>Kelembapan</th>\n",
              "      <th>Temperatur</th>\n",
              "      <th>Label Kelas</th>\n",
              "    </tr>\n",
              "  </thead>\n",
              "  <tbody>\n",
              "    <tr>\n",
              "      <th>0</th>\n",
              "      <td>137</td>\n",
              "      <td>149.06</td>\n",
              "      <td>23.4</td>\n",
              "      <td>0.76</td>\n",
              "      <td>2</td>\n",
              "    </tr>\n",
              "    <tr>\n",
              "      <th>1</th>\n",
              "      <td>136</td>\n",
              "      <td>149.06</td>\n",
              "      <td>23.4</td>\n",
              "      <td>0.76</td>\n",
              "      <td>2</td>\n",
              "    </tr>\n",
              "    <tr>\n",
              "      <th>2</th>\n",
              "      <td>207</td>\n",
              "      <td>149.06</td>\n",
              "      <td>23.4</td>\n",
              "      <td>0.76</td>\n",
              "      <td>2</td>\n",
              "    </tr>\n",
              "    <tr>\n",
              "      <th>3</th>\n",
              "      <td>267</td>\n",
              "      <td>322.04</td>\n",
              "      <td>23.3</td>\n",
              "      <td>0.84</td>\n",
              "      <td>2</td>\n",
              "    </tr>\n",
              "    <tr>\n",
              "      <th>4</th>\n",
              "      <td>232</td>\n",
              "      <td>149.06</td>\n",
              "      <td>23.4</td>\n",
              "      <td>0.76</td>\n",
              "      <td>2</td>\n",
              "    </tr>\n",
              "  </tbody>\n",
              "</table>\n",
              "</div>"
            ],
            "text/plain": [
              "   Jumlah Kasus  Curah hujan  Kelembapan  Temperatur  Label Kelas\n",
              "0           137       149.06        23.4        0.76            2\n",
              "1           136       149.06        23.4        0.76            2\n",
              "2           207       149.06        23.4        0.76            2\n",
              "3           267       322.04        23.3        0.84            2\n",
              "4           232       149.06        23.4        0.76            2"
            ]
          },
          "metadata": {},
          "execution_count": 5
        }
      ]
    },
    {
      "cell_type": "code",
      "metadata": {
        "id": "Cw_UO7bYcnl5"
      },
      "source": [
        "d2012 = dbd.iloc[0:30]\n",
        "d2013 = dbd.iloc[30:60] \n",
        "d2014 = dbd.iloc[60:90] \n",
        "d2015 = dbd.iloc[90:120] \n",
        "d2016 = dbd.iloc[120:150] \n",
        "d2017 = dbd.iloc[150:180] \n",
        "d2018 = dbd.iloc[180:210] "
      ],
      "execution_count": 6,
      "outputs": []
    },
    {
      "cell_type": "markdown",
      "metadata": {
        "id": "NZ-jQWi3cnl6"
      },
      "source": [
        "## 1 Tahun Sebelumnya "
      ]
    },
    {
      "cell_type": "markdown",
      "metadata": {
        "id": "NWYzy5yAcnl9"
      },
      "source": [
        "2013"
      ]
    },
    {
      "cell_type": "code",
      "metadata": {
        "id": "ihxrm-nLcnl-"
      },
      "source": [
        "x13 = d2012.drop([\"Label Kelas\"], axis = 1)\n",
        "#Variabel dependen\n",
        "y13 = d2012[\"Label Kelas\"]\n",
        "x_train, x_test, y_train, y_test = train_test_split(x13,y13, test_size = 0.2, random_state = 123)\n",
        "model13 = GaussianNB()\n",
        "nbtrain13 = model13.fit(x_train, y_train)\n",
        "y_pred = nbtrain13.predict(x_test)"
      ],
      "execution_count": 7,
      "outputs": []
    },
    {
      "cell_type": "code",
      "metadata": {
        "colab": {
          "base_uri": "https://localhost:8080/"
        },
        "id": "FwV1LQZgcnmA",
        "outputId": "72d8de54-0bae-4efb-cba6-e5105bcb4263"
      },
      "source": [
        "from sklearn.metrics import classification_report\n",
        "print(classification_report(y_test, y_pred))"
      ],
      "execution_count": 8,
      "outputs": [
        {
          "output_type": "stream",
          "name": "stdout",
          "text": [
            "              precision    recall  f1-score   support\n",
            "\n",
            "           0       0.00      0.00      0.00         1\n",
            "           2       0.83      1.00      0.91         5\n",
            "\n",
            "    accuracy                           0.83         6\n",
            "   macro avg       0.42      0.50      0.45         6\n",
            "weighted avg       0.69      0.83      0.76         6\n",
            "\n"
          ]
        },
        {
          "output_type": "stream",
          "name": "stderr",
          "text": [
            "/usr/local/lib/python3.7/dist-packages/sklearn/metrics/_classification.py:1272: UndefinedMetricWarning: Precision and F-score are ill-defined and being set to 0.0 in labels with no predicted samples. Use `zero_division` parameter to control this behavior.\n",
            "  _warn_prf(average, modifier, msg_start, len(result))\n"
          ]
        }
      ]
    },
    {
      "cell_type": "markdown",
      "metadata": {
        "id": "fP-WMNQTcnmC"
      },
      "source": [
        "2014"
      ]
    },
    {
      "cell_type": "code",
      "metadata": {
        "id": "VbzhrSh_cnmD"
      },
      "source": [
        "x14 = d2013.drop([\"Label Kelas\"], axis = 1)\n",
        "#Variabel dependen\n",
        "y14 = d2013[\"Label Kelas\"]\n",
        "x_train14, x_test14, y_train14, y_test14 = train_test_split(x14,y14, test_size = 0.2, random_state = 123)\n",
        "model14 = GaussianNB()\n",
        "nbtrain14 = model14.fit(x_train14, y_train14)\n",
        "y_pred14 = nbtrain14.predict(x_test14)"
      ],
      "execution_count": 9,
      "outputs": []
    },
    {
      "cell_type": "code",
      "metadata": {
        "colab": {
          "base_uri": "https://localhost:8080/"
        },
        "id": "x6-UK0IlcnmF",
        "outputId": "d23c6c7d-514c-4f41-b394-61719a09a9d1"
      },
      "source": [
        "from sklearn.metrics import classification_report\n",
        "print(classification_report(y_test14, y_pred14))"
      ],
      "execution_count": 10,
      "outputs": [
        {
          "output_type": "stream",
          "name": "stdout",
          "text": [
            "              precision    recall  f1-score   support\n",
            "\n",
            "           1       0.25      1.00      0.40         1\n",
            "           2       1.00      0.40      0.57         5\n",
            "\n",
            "    accuracy                           0.50         6\n",
            "   macro avg       0.62      0.70      0.49         6\n",
            "weighted avg       0.88      0.50      0.54         6\n",
            "\n"
          ]
        }
      ]
    },
    {
      "cell_type": "markdown",
      "metadata": {
        "id": "ZvPfzdrIcnmG"
      },
      "source": [
        "2015"
      ]
    },
    {
      "cell_type": "code",
      "metadata": {
        "id": "CQMez-vccnmH"
      },
      "source": [
        "x15 = d2014.drop([\"Label Kelas\"], axis = 1)\n",
        "#Variabel dependen\n",
        "y15 = d2014[\"Label Kelas\"]\n",
        "x_train15, x_test15, y_train15, y_test15 = train_test_split(x15,y15, test_size = 0.2, random_state = 123)\n",
        "model15 = GaussianNB()\n",
        "nbtrain15 = model15.fit(x_train15, y_train15)\n",
        "y_pred15 = nbtrain15.predict(x_test15)"
      ],
      "execution_count": 11,
      "outputs": []
    },
    {
      "cell_type": "code",
      "metadata": {
        "colab": {
          "base_uri": "https://localhost:8080/"
        },
        "id": "6gZLodXhcnmI",
        "outputId": "62224af3-bd1e-4ca7-dfb4-1bd3b3f5250d"
      },
      "source": [
        "from sklearn.metrics import classification_report\n",
        "print(classification_report(y_test15, y_pred15))"
      ],
      "execution_count": 12,
      "outputs": [
        {
          "output_type": "stream",
          "name": "stdout",
          "text": [
            "              precision    recall  f1-score   support\n",
            "\n",
            "           2       1.00      1.00      1.00         6\n",
            "\n",
            "    accuracy                           1.00         6\n",
            "   macro avg       1.00      1.00      1.00         6\n",
            "weighted avg       1.00      1.00      1.00         6\n",
            "\n"
          ]
        }
      ]
    },
    {
      "cell_type": "markdown",
      "metadata": {
        "id": "rEQeUjtQcnmK"
      },
      "source": [
        "2016"
      ]
    },
    {
      "cell_type": "code",
      "metadata": {
        "id": "7U3A-IOTcnmK"
      },
      "source": [
        "x16 = d2015.drop([\"Label Kelas\"], axis = 1)\n",
        "#Variabel dependen\n",
        "y16 = d2015[\"Label Kelas\"]\n",
        "x_train16, x_test16, y_train16, y_test16 = train_test_split(x16,y16, test_size = 0.2, random_state = 123)\n",
        "model16 = GaussianNB()\n",
        "nbtrain16 = model16.fit(x_train16, y_train16)\n",
        "y_pred16 = nbtrain16.predict(x_test16)"
      ],
      "execution_count": 13,
      "outputs": []
    },
    {
      "cell_type": "code",
      "metadata": {
        "colab": {
          "base_uri": "https://localhost:8080/"
        },
        "id": "c3euKhQ1cnmM",
        "outputId": "059e6cba-9a02-4e21-d51a-988cbf2be596"
      },
      "source": [
        "from sklearn.metrics import classification_report\n",
        "print(classification_report(y_test16, y_pred16))"
      ],
      "execution_count": 14,
      "outputs": [
        {
          "output_type": "stream",
          "name": "stdout",
          "text": [
            "              precision    recall  f1-score   support\n",
            "\n",
            "           1       1.00      0.50      0.67         2\n",
            "           2       0.80      1.00      0.89         4\n",
            "\n",
            "    accuracy                           0.83         6\n",
            "   macro avg       0.90      0.75      0.78         6\n",
            "weighted avg       0.87      0.83      0.81         6\n",
            "\n"
          ]
        }
      ]
    },
    {
      "cell_type": "markdown",
      "metadata": {
        "id": "rhKrVfclcnmN"
      },
      "source": [
        "2017"
      ]
    },
    {
      "cell_type": "code",
      "metadata": {
        "id": "lWNEzIlZcnmO"
      },
      "source": [
        "x17 = d2016.drop([\"Label Kelas\"], axis = 1)\n",
        "#Variabel dependen\n",
        "y17 = d2016[\"Label Kelas\"]\n",
        "x_train17, x_test17, y_train17, y_test17 = train_test_split(x17,y17, test_size = 0.2, random_state = 123)\n",
        "model17 = GaussianNB()\n",
        "nbtrain17 = model17.fit(x_train17, y_train17)\n",
        "y_pred17 = nbtrain17.predict(x_test17)"
      ],
      "execution_count": 15,
      "outputs": []
    },
    {
      "cell_type": "code",
      "metadata": {
        "colab": {
          "base_uri": "https://localhost:8080/"
        },
        "id": "h04bpbWhcnmO",
        "outputId": "a9eaec43-b272-44d0-a2e8-537ed49b4d3c"
      },
      "source": [
        "from sklearn.metrics import classification_report\n",
        "print(classification_report(y_test17, y_pred17))"
      ],
      "execution_count": 16,
      "outputs": [
        {
          "output_type": "stream",
          "name": "stdout",
          "text": [
            "              precision    recall  f1-score   support\n",
            "\n",
            "           2       1.00      1.00      1.00         6\n",
            "\n",
            "    accuracy                           1.00         6\n",
            "   macro avg       1.00      1.00      1.00         6\n",
            "weighted avg       1.00      1.00      1.00         6\n",
            "\n"
          ]
        }
      ]
    },
    {
      "cell_type": "markdown",
      "metadata": {
        "id": "gZaoVJYxcnmP"
      },
      "source": [
        "2018 dengan atribut tahun 2017#Terbaik"
      ]
    },
    {
      "cell_type": "code",
      "metadata": {
        "id": "6-H-Z134cnmQ"
      },
      "source": [
        "x18 = d2017.drop([\"Label Kelas\"], axis = 1)\n",
        "#Variabel dependen\n",
        "y18 = d2017[\"Label Kelas\"]\n",
        "x_train18, x_test18, y_train18, y_test18 = train_test_split(x18,y18, test_size = 0.2, random_state = 123)\n",
        "model18 = GaussianNB()\n",
        "nbtrain18 = model18.fit(x_train18, y_train18)\n",
        "y_pred18 = nbtrain18.predict(x_test18)"
      ],
      "execution_count": 17,
      "outputs": []
    },
    {
      "cell_type": "code",
      "metadata": {
        "colab": {
          "base_uri": "https://localhost:8080/"
        },
        "id": "DQPNm09McnmQ",
        "outputId": "b28115e4-d82d-4bef-a7f5-01cb4cd5c9da"
      },
      "source": [
        "from sklearn.metrics import classification_report\n",
        "print(classification_report(y_test18, y_pred18))"
      ],
      "execution_count": 18,
      "outputs": [
        {
          "output_type": "stream",
          "name": "stdout",
          "text": [
            "              precision    recall  f1-score   support\n",
            "\n",
            "           0       1.00      1.00      1.00         1\n",
            "           1       1.00      1.00      1.00         1\n",
            "           2       1.00      1.00      1.00         4\n",
            "\n",
            "    accuracy                           1.00         6\n",
            "   macro avg       1.00      1.00      1.00         6\n",
            "weighted avg       1.00      1.00      1.00         6\n",
            "\n"
          ]
        }
      ]
    },
    {
      "cell_type": "markdown",
      "metadata": {
        "id": "yPmzSGnXcnmR"
      },
      "source": [
        "## 2 Tahun Sebelumnya "
      ]
    },
    {
      "cell_type": "markdown",
      "metadata": {
        "id": "FJtIED61cnmS"
      },
      "source": [
        "2014"
      ]
    },
    {
      "cell_type": "code",
      "metadata": {
        "id": "D9CV36LBcnmS"
      },
      "source": [
        "a14 = d2012.drop([\"Label Kelas\"], axis = 1)\n",
        "#Variabel dependen\n",
        "b14 = d2012[\"Label Kelas\"]\n",
        "a_train14, a_test14, b_train14, b_test14 = train_test_split(a14,b14, test_size = 0.2, random_state = 123)\n",
        "modelb14 = GaussianNB()\n",
        "natrain14 = modelb14.fit(a_train14, b_train14)\n",
        "b_pred14 = natrain14.predict(a_test14)"
      ],
      "execution_count": 19,
      "outputs": []
    },
    {
      "cell_type": "code",
      "metadata": {
        "colab": {
          "base_uri": "https://localhost:8080/"
        },
        "id": "dCziJHxrcnmS",
        "outputId": "9091ddb9-e780-48d9-96b6-b4b67fa713fa"
      },
      "source": [
        "from sklearn.metrics import classification_report\n",
        "print(classification_report(b_test14, b_pred14))"
      ],
      "execution_count": 20,
      "outputs": [
        {
          "output_type": "stream",
          "name": "stdout",
          "text": [
            "              precision    recall  f1-score   support\n",
            "\n",
            "           0       0.00      0.00      0.00         1\n",
            "           2       0.83      1.00      0.91         5\n",
            "\n",
            "    accuracy                           0.83         6\n",
            "   macro avg       0.42      0.50      0.45         6\n",
            "weighted avg       0.69      0.83      0.76         6\n",
            "\n"
          ]
        },
        {
          "output_type": "stream",
          "name": "stderr",
          "text": [
            "/usr/local/lib/python3.7/dist-packages/sklearn/metrics/_classification.py:1272: UndefinedMetricWarning: Precision and F-score are ill-defined and being set to 0.0 in labels with no predicted samples. Use `zero_division` parameter to control this behavior.\n",
            "  _warn_prf(average, modifier, msg_start, len(result))\n"
          ]
        }
      ]
    },
    {
      "cell_type": "markdown",
      "metadata": {
        "id": "NB1gdoNgcnmT"
      },
      "source": [
        "2016"
      ]
    },
    {
      "cell_type": "code",
      "metadata": {
        "id": "RyyF0fMwcnmT"
      },
      "source": [
        "a16 = d2014.drop([\"Label Kelas\"], axis = 1)\n",
        "#Variabel dependen\n",
        "b16 = d2014[\"Label Kelas\"]\n",
        "a_train16, a_test16, b_train16, b_test16 = train_test_split(a16,b16, test_size = 0.2, random_state = 123)\n",
        "modelb16 = GaussianNB()\n",
        "natrain16 = modelb16.fit(a_train16, b_train16)\n",
        "b_pred16 = natrain16.predict(a_test16)"
      ],
      "execution_count": 21,
      "outputs": []
    },
    {
      "cell_type": "code",
      "metadata": {
        "colab": {
          "base_uri": "https://localhost:8080/"
        },
        "id": "2xmqc05JcnmT",
        "outputId": "8818b2f6-9d33-41f0-f963-c5687aeadeb9"
      },
      "source": [
        "from sklearn.metrics import classification_report\n",
        "print(classification_report(b_test16, b_pred16))"
      ],
      "execution_count": 22,
      "outputs": [
        {
          "output_type": "stream",
          "name": "stdout",
          "text": [
            "              precision    recall  f1-score   support\n",
            "\n",
            "           2       1.00      1.00      1.00         6\n",
            "\n",
            "    accuracy                           1.00         6\n",
            "   macro avg       1.00      1.00      1.00         6\n",
            "weighted avg       1.00      1.00      1.00         6\n",
            "\n"
          ]
        }
      ]
    },
    {
      "cell_type": "markdown",
      "metadata": {
        "id": "LN0Fn9ukcnmU"
      },
      "source": [
        "2018"
      ]
    },
    {
      "cell_type": "code",
      "metadata": {
        "id": "-ZC0yH2ncnmV"
      },
      "source": [
        "a18 = d2016.drop([\"Label Kelas\"], axis = 1)\n",
        "#Variabel dependen\n",
        "b18 = d2016[\"Label Kelas\"]\n",
        "a_train18, a_test18, b_train18, b_test18 = train_test_split(a18,b18, test_size = 0.2, random_state = 123)\n",
        "modelb18 = GaussianNB()\n",
        "natrain18 = modelb18.fit(a_train16, b_train18)\n",
        "b_pred18 = natrain18.predict(a_test18)"
      ],
      "execution_count": 23,
      "outputs": []
    },
    {
      "cell_type": "code",
      "metadata": {
        "colab": {
          "base_uri": "https://localhost:8080/"
        },
        "id": "Kc95di1WcnmV",
        "outputId": "0717c5cc-3035-4823-c852-0ec8a5fb5906"
      },
      "source": [
        "from sklearn.metrics import classification_report\n",
        "print(classification_report(b_test18, b_pred18))"
      ],
      "execution_count": 24,
      "outputs": [
        {
          "output_type": "stream",
          "name": "stdout",
          "text": [
            "              precision    recall  f1-score   support\n",
            "\n",
            "           2       1.00      1.00      1.00         6\n",
            "\n",
            "    accuracy                           1.00         6\n",
            "   macro avg       1.00      1.00      1.00         6\n",
            "weighted avg       1.00      1.00      1.00         6\n",
            "\n"
          ]
        }
      ]
    },
    {
      "cell_type": "markdown",
      "metadata": {
        "id": "al0OxhAccnmW"
      },
      "source": [
        "## 3 Tahun Sebelumnya "
      ]
    },
    {
      "cell_type": "markdown",
      "metadata": {
        "id": "vusVN4eBeq0U"
      },
      "source": [
        "2015"
      ]
    },
    {
      "cell_type": "code",
      "metadata": {
        "id": "ARe-aUJ3ej-u"
      },
      "source": [
        "c15 = d2012.drop([\"Label Kelas\"], axis = 1)\n",
        "#Variabel dependen\n",
        "d15 = d2012[\"Label Kelas\"]\n",
        "c_train15, c_test15, d_train15, d_test15 = train_test_split(c15,d15, test_size = 0.2, random_state = 123)\n",
        "modelc15 = GaussianNB()\n",
        "nctrain15 = modelc15.fit(c_train15, d_train15)\n",
        "d_pred15 = nctrain15.predict(c_test15)"
      ],
      "execution_count": 27,
      "outputs": []
    },
    {
      "cell_type": "code",
      "metadata": {
        "colab": {
          "base_uri": "https://localhost:8080/"
        },
        "id": "0lVevtcZfCvj",
        "outputId": "489c5f8d-e536-4e87-a297-762720116ca2"
      },
      "source": [
        "from sklearn.metrics import classification_report\n",
        "print(classification_report(d_test15, d_pred15))"
      ],
      "execution_count": 28,
      "outputs": [
        {
          "output_type": "stream",
          "name": "stdout",
          "text": [
            "              precision    recall  f1-score   support\n",
            "\n",
            "           0       0.00      0.00      0.00         1\n",
            "           2       0.83      1.00      0.91         5\n",
            "\n",
            "    accuracy                           0.83         6\n",
            "   macro avg       0.42      0.50      0.45         6\n",
            "weighted avg       0.69      0.83      0.76         6\n",
            "\n"
          ]
        },
        {
          "output_type": "stream",
          "name": "stderr",
          "text": [
            "/usr/local/lib/python3.7/dist-packages/sklearn/metrics/_classification.py:1272: UndefinedMetricWarning: Precision and F-score are ill-defined and being set to 0.0 in labels with no predicted samples. Use `zero_division` parameter to control this behavior.\n",
            "  _warn_prf(average, modifier, msg_start, len(result))\n"
          ]
        }
      ]
    },
    {
      "cell_type": "markdown",
      "metadata": {
        "id": "YN5eXbISfMGl"
      },
      "source": [
        "2018"
      ]
    },
    {
      "cell_type": "code",
      "metadata": {
        "id": "Vk2IzJ2OfU1i"
      },
      "source": [
        "c18 = d2015.drop([\"Label Kelas\"], axis = 1)\n",
        "#Variabel dependen\n",
        "d18 = d2015[\"Label Kelas\"]\n",
        "c_train18, c_test18, d_train18, d_test18 = train_test_split(c18,d18, test_size = 0.2, random_state = 123)\n",
        "modelc18 = GaussianNB()\n",
        "nctrain18 = modelc18.fit(c_train18, d_train18)\n",
        "d_pred18 = nctrain18.predict(c_test18)"
      ],
      "execution_count": 29,
      "outputs": []
    },
    {
      "cell_type": "code",
      "metadata": {
        "colab": {
          "base_uri": "https://localhost:8080/"
        },
        "id": "FQ-l1U5yfsTD",
        "outputId": "9ffe41f5-0352-4429-817b-7f6808ce1475"
      },
      "source": [
        "from sklearn.metrics import classification_report\n",
        "print(classification_report(d_test18, d_pred18))"
      ],
      "execution_count": 30,
      "outputs": [
        {
          "output_type": "stream",
          "name": "stdout",
          "text": [
            "              precision    recall  f1-score   support\n",
            "\n",
            "           1       1.00      0.50      0.67         2\n",
            "           2       0.80      1.00      0.89         4\n",
            "\n",
            "    accuracy                           0.83         6\n",
            "   macro avg       0.90      0.75      0.78         6\n",
            "weighted avg       0.87      0.83      0.81         6\n",
            "\n"
          ]
        }
      ]
    }
  ]
}